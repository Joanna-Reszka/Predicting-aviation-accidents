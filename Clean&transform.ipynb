{
 "cells": [
  {
   "cell_type": "markdown",
   "id": "37be11fa-d629-4bfd-a100-da4d111f55bf",
   "metadata": {
    "tags": []
   },
   "source": [
    "### Inspecting database, cleaning and transforming data \n",
    "-  aligning misalligned rows,\n",
    "-  deleting irrelevant columns,\n",
    "-  converting date to datetime (year, month, weekday)\n",
    "- cleaning and standardising names in columns (as much as possible):\n",
    "   -  nr of engines\n",
    "   -  amateur build\n",
    "   -  make\n",
    "   -  weather conditions\n",
    "   -  broad phase of flight\n",
    "   -  airport class\n",
    "-  filling NA with UNKNOWN or 0\n",
    "-  creating target column of nr of none, minor, serious or fatal injuries to binary column of none-minor or serious-fatal injuries\n",
    "-  choosing subset of data limited to:\n",
    "   -  country: US\n",
    "   -  year: after 1982\n",
    "   -  aircraft category: airplane and helicopter"
   ]
  },
  {
   "cell_type": "code",
   "execution_count": 1,
   "id": "a9fc5d7e-467e-40e8-aafe-2390f46ea094",
   "metadata": {},
   "outputs": [],
   "source": [
    "# Imports\n",
    "\n",
    "import pandas as pd\n",
    "import numpy as np\n",
    "import matplotlib.pyplot as plt\n",
    "import seaborn as sns"
   ]
  },
  {
   "cell_type": "code",
   "execution_count": 2,
   "id": "d679e462-e8d1-4f2e-b9bb-77aea69cea00",
   "metadata": {},
   "outputs": [
    {
     "name": "stderr",
     "output_type": "stream",
     "text": [
      "C:\\Users\\Enter\\AppData\\Local\\Temp\\ipykernel_7016\\3738267037.py:1: DtypeWarning: Columns (6,7,28,31,33) have mixed types. Specify dtype option on import or set low_memory=False.\n",
      "  df= pd.read_csv('AviationData.csv')\n"
     ]
    }
   ],
   "source": [
    "df= pd.read_csv('AviationData.csv')"
   ]
  },
  {
   "cell_type": "code",
   "execution_count": 3,
   "id": "7a1147b9-c063-4434-beec-39ffbd9b8f91",
   "metadata": {},
   "outputs": [
    {
     "name": "stdout",
     "output_type": "stream",
     "text": [
      "<class 'pandas.core.frame.DataFrame'>\n",
      "RangeIndex: 88889 entries, 0 to 88888\n",
      "Data columns (total 38 columns):\n",
      " #   Column                  Non-Null Count  Dtype  \n",
      "---  ------                  --------------  -----  \n",
      " 0   Event.Id                88889 non-null  object \n",
      " 1   Investigation.Type      88889 non-null  object \n",
      " 2   Accident.Number         88889 non-null  object \n",
      " 3   Event.Date              88889 non-null  object \n",
      " 4   Location                88837 non-null  object \n",
      " 5   Country                 88663 non-null  object \n",
      " 6   Latitude                34382 non-null  object \n",
      " 7   Longitude               34373 non-null  object \n",
      " 8   Airport.Code            50249 non-null  object \n",
      " 9   Airport.Name            52790 non-null  object \n",
      " 10  Injury.Severity         87889 non-null  object \n",
      " 11  Aircraft.damage         85695 non-null  object \n",
      " 12  Aircraft.Category       32287 non-null  object \n",
      " 13  Registration.Number     87572 non-null  object \n",
      " 14  Make                    88826 non-null  object \n",
      " 15  Model                   88797 non-null  object \n",
      " 16  Amateur.Built           88787 non-null  object \n",
      " 17  Number.of.Engines       82805 non-null  float64\n",
      " 18  Engine.Type             81812 non-null  object \n",
      " 19  FAR.Description         32023 non-null  object \n",
      " 20  Schedule                12582 non-null  object \n",
      " 21  Purpose.of.flight       82697 non-null  object \n",
      " 22  Air.carrier             16648 non-null  object \n",
      " 23  Total.Fatal.Injuries    77487 non-null  float64\n",
      " 24  Total.Serious.Injuries  76378 non-null  float64\n",
      " 25  Total.Minor.Injuries    76955 non-null  float64\n",
      " 26  Total.Uninjured         82976 non-null  float64\n",
      " 27  Weather.Condition       84397 non-null  object \n",
      " 28  Broad.phase.of.flight   61724 non-null  object \n",
      " 29  Report.Status           82507 non-null  object \n",
      " 30  Publication.Date        75118 non-null  object \n",
      " 31  Unnamed: 31             20 non-null     object \n",
      " 32  Unnamed: 32             0 non-null      float64\n",
      " 33  Unnamed: 33             1 non-null      object \n",
      " 34  Unnamed: 34             1 non-null      float64\n",
      " 35  Unnamed: 35             1 non-null      float64\n",
      " 36  Unnamed: 36             1 non-null      float64\n",
      " 37  Unnamed: 37             1 non-null      float64\n",
      "dtypes: float64(10), object(28)\n",
      "memory usage: 25.8+ MB\n"
     ]
    }
   ],
   "source": [
    "df.info()"
   ]
  },
  {
   "cell_type": "code",
   "execution_count": 4,
   "id": "092d9153-e5b8-4b4f-aa20-75db3afcdc8d",
   "metadata": {},
   "outputs": [
    {
     "data": {
      "text/plain": [
       "Event.Id                      0\n",
       "Investigation.Type            0\n",
       "Accident.Number               0\n",
       "Event.Date                    0\n",
       "Location                     52\n",
       "Country                     226\n",
       "Latitude                  54507\n",
       "Longitude                 54516\n",
       "Airport.Code              38640\n",
       "Airport.Name              36099\n",
       "Injury.Severity            1000\n",
       "Aircraft.damage            3194\n",
       "Aircraft.Category         56602\n",
       "Registration.Number        1317\n",
       "Make                         63\n",
       "Model                        92\n",
       "Amateur.Built               102\n",
       "Number.of.Engines          6084\n",
       "Engine.Type                7077\n",
       "FAR.Description           56866\n",
       "Schedule                  76307\n",
       "Purpose.of.flight          6192\n",
       "Air.carrier               72241\n",
       "Total.Fatal.Injuries      11402\n",
       "Total.Serious.Injuries    12511\n",
       "Total.Minor.Injuries      11934\n",
       "Total.Uninjured            5913\n",
       "Weather.Condition          4492\n",
       "Broad.phase.of.flight     27165\n",
       "Report.Status              6382\n",
       "Publication.Date          13771\n",
       "Unnamed: 31               88869\n",
       "Unnamed: 32               88889\n",
       "Unnamed: 33               88888\n",
       "Unnamed: 34               88888\n",
       "Unnamed: 35               88888\n",
       "Unnamed: 36               88888\n",
       "Unnamed: 37               88888\n",
       "dtype: int64"
      ]
     },
     "execution_count": 4,
     "metadata": {},
     "output_type": "execute_result"
    }
   ],
   "source": [
    "# Information on columns and number of null values in columns\n",
    "\n",
    "df.isnull().sum()"
   ]
  },
  {
   "cell_type": "code",
   "execution_count": 5,
   "id": "98c8a966-b91c-47e7-80a4-a23b80f76187",
   "metadata": {},
   "outputs": [
    {
     "data": {
      "text/html": [
       "<div>\n",
       "<style scoped>\n",
       "    .dataframe tbody tr th:only-of-type {\n",
       "        vertical-align: middle;\n",
       "    }\n",
       "\n",
       "    .dataframe tbody tr th {\n",
       "        vertical-align: top;\n",
       "    }\n",
       "\n",
       "    .dataframe thead th {\n",
       "        text-align: right;\n",
       "    }\n",
       "</style>\n",
       "<table border=\"1\" class=\"dataframe\">\n",
       "  <thead>\n",
       "    <tr style=\"text-align: right;\">\n",
       "      <th></th>\n",
       "      <th>Event.Id</th>\n",
       "      <th>Investigation.Type</th>\n",
       "      <th>Accident.Number</th>\n",
       "      <th>Event.Date</th>\n",
       "      <th>Location</th>\n",
       "      <th>Country</th>\n",
       "      <th>Latitude</th>\n",
       "      <th>Longitude</th>\n",
       "      <th>Airport.Code</th>\n",
       "      <th>Airport.Name</th>\n",
       "      <th>...</th>\n",
       "      <th>Broad.phase.of.flight</th>\n",
       "      <th>Report.Status</th>\n",
       "      <th>Publication.Date</th>\n",
       "      <th>Unnamed: 31</th>\n",
       "      <th>Unnamed: 32</th>\n",
       "      <th>Unnamed: 33</th>\n",
       "      <th>Unnamed: 34</th>\n",
       "      <th>Unnamed: 35</th>\n",
       "      <th>Unnamed: 36</th>\n",
       "      <th>Unnamed: 37</th>\n",
       "    </tr>\n",
       "  </thead>\n",
       "  <tbody>\n",
       "    <tr>\n",
       "      <th>0</th>\n",
       "      <td>20001218X45444</td>\n",
       "      <td>Accident</td>\n",
       "      <td>SEA87LA080</td>\n",
       "      <td>1948-10-24</td>\n",
       "      <td>MOOSE CREEK, ID</td>\n",
       "      <td>United States</td>\n",
       "      <td>NaN</td>\n",
       "      <td>NaN</td>\n",
       "      <td>NaN</td>\n",
       "      <td>NaN</td>\n",
       "      <td>...</td>\n",
       "      <td>Cruise</td>\n",
       "      <td>Probable Cause</td>\n",
       "      <td>NaN</td>\n",
       "      <td>NaN</td>\n",
       "      <td>NaN</td>\n",
       "      <td>NaN</td>\n",
       "      <td>NaN</td>\n",
       "      <td>NaN</td>\n",
       "      <td>NaN</td>\n",
       "      <td>NaN</td>\n",
       "    </tr>\n",
       "    <tr>\n",
       "      <th>1</th>\n",
       "      <td>20001218X45447</td>\n",
       "      <td>Accident</td>\n",
       "      <td>LAX94LA336</td>\n",
       "      <td>1962-07-19</td>\n",
       "      <td>BRIDGEPORT, CA</td>\n",
       "      <td>United States</td>\n",
       "      <td>NaN</td>\n",
       "      <td>NaN</td>\n",
       "      <td>NaN</td>\n",
       "      <td>NaN</td>\n",
       "      <td>...</td>\n",
       "      <td>Unknown</td>\n",
       "      <td>Probable Cause</td>\n",
       "      <td>19-09-1996</td>\n",
       "      <td>NaN</td>\n",
       "      <td>NaN</td>\n",
       "      <td>NaN</td>\n",
       "      <td>NaN</td>\n",
       "      <td>NaN</td>\n",
       "      <td>NaN</td>\n",
       "      <td>NaN</td>\n",
       "    </tr>\n",
       "    <tr>\n",
       "      <th>2</th>\n",
       "      <td>20061025X01555</td>\n",
       "      <td>Accident</td>\n",
       "      <td>NYC07LA005</td>\n",
       "      <td>1974-08-30</td>\n",
       "      <td>Saltville, VA</td>\n",
       "      <td>United States</td>\n",
       "      <td>36.922223</td>\n",
       "      <td>-81.878056</td>\n",
       "      <td>NaN</td>\n",
       "      <td>NaN</td>\n",
       "      <td>...</td>\n",
       "      <td>Cruise</td>\n",
       "      <td>Probable Cause</td>\n",
       "      <td>26-02-2007</td>\n",
       "      <td>NaN</td>\n",
       "      <td>NaN</td>\n",
       "      <td>NaN</td>\n",
       "      <td>NaN</td>\n",
       "      <td>NaN</td>\n",
       "      <td>NaN</td>\n",
       "      <td>NaN</td>\n",
       "    </tr>\n",
       "    <tr>\n",
       "      <th>3</th>\n",
       "      <td>20001218X45448</td>\n",
       "      <td>Accident</td>\n",
       "      <td>LAX96LA321</td>\n",
       "      <td>1977-06-19</td>\n",
       "      <td>EUREKA, CA</td>\n",
       "      <td>United States</td>\n",
       "      <td>NaN</td>\n",
       "      <td>NaN</td>\n",
       "      <td>NaN</td>\n",
       "      <td>NaN</td>\n",
       "      <td>...</td>\n",
       "      <td>Cruise</td>\n",
       "      <td>Probable Cause</td>\n",
       "      <td>12-09-2000</td>\n",
       "      <td>NaN</td>\n",
       "      <td>NaN</td>\n",
       "      <td>NaN</td>\n",
       "      <td>NaN</td>\n",
       "      <td>NaN</td>\n",
       "      <td>NaN</td>\n",
       "      <td>NaN</td>\n",
       "    </tr>\n",
       "    <tr>\n",
       "      <th>4</th>\n",
       "      <td>20041105X01764</td>\n",
       "      <td>Accident</td>\n",
       "      <td>CHI79FA064</td>\n",
       "      <td>1979-08-02</td>\n",
       "      <td>Canton, OH</td>\n",
       "      <td>United States</td>\n",
       "      <td>NaN</td>\n",
       "      <td>NaN</td>\n",
       "      <td>NaN</td>\n",
       "      <td>NaN</td>\n",
       "      <td>...</td>\n",
       "      <td>Approach</td>\n",
       "      <td>Probable Cause</td>\n",
       "      <td>16-04-1980</td>\n",
       "      <td>NaN</td>\n",
       "      <td>NaN</td>\n",
       "      <td>NaN</td>\n",
       "      <td>NaN</td>\n",
       "      <td>NaN</td>\n",
       "      <td>NaN</td>\n",
       "      <td>NaN</td>\n",
       "    </tr>\n",
       "  </tbody>\n",
       "</table>\n",
       "<p>5 rows × 38 columns</p>\n",
       "</div>"
      ],
      "text/plain": [
       "         Event.Id Investigation.Type Accident.Number  Event.Date  \\\n",
       "0  20001218X45444           Accident      SEA87LA080  1948-10-24   \n",
       "1  20001218X45447           Accident      LAX94LA336  1962-07-19   \n",
       "2  20061025X01555           Accident      NYC07LA005  1974-08-30   \n",
       "3  20001218X45448           Accident      LAX96LA321  1977-06-19   \n",
       "4  20041105X01764           Accident      CHI79FA064  1979-08-02   \n",
       "\n",
       "          Location        Country   Latitude  Longitude Airport.Code  \\\n",
       "0  MOOSE CREEK, ID  United States        NaN        NaN          NaN   \n",
       "1   BRIDGEPORT, CA  United States        NaN        NaN          NaN   \n",
       "2    Saltville, VA  United States  36.922223 -81.878056          NaN   \n",
       "3       EUREKA, CA  United States        NaN        NaN          NaN   \n",
       "4       Canton, OH  United States        NaN        NaN          NaN   \n",
       "\n",
       "  Airport.Name  ... Broad.phase.of.flight   Report.Status Publication.Date  \\\n",
       "0          NaN  ...                Cruise  Probable Cause              NaN   \n",
       "1          NaN  ...               Unknown  Probable Cause       19-09-1996   \n",
       "2          NaN  ...                Cruise  Probable Cause       26-02-2007   \n",
       "3          NaN  ...                Cruise  Probable Cause       12-09-2000   \n",
       "4          NaN  ...              Approach  Probable Cause       16-04-1980   \n",
       "\n",
       "  Unnamed: 31 Unnamed: 32 Unnamed: 33 Unnamed: 34  Unnamed: 35 Unnamed: 36  \\\n",
       "0         NaN         NaN         NaN         NaN          NaN         NaN   \n",
       "1         NaN         NaN         NaN         NaN          NaN         NaN   \n",
       "2         NaN         NaN         NaN         NaN          NaN         NaN   \n",
       "3         NaN         NaN         NaN         NaN          NaN         NaN   \n",
       "4         NaN         NaN         NaN         NaN          NaN         NaN   \n",
       "\n",
       "  Unnamed: 37  \n",
       "0         NaN  \n",
       "1         NaN  \n",
       "2         NaN  \n",
       "3         NaN  \n",
       "4         NaN  \n",
       "\n",
       "[5 rows x 38 columns]"
      ]
     },
     "execution_count": 5,
     "metadata": {},
     "output_type": "execute_result"
    }
   ],
   "source": [
    "df.head()"
   ]
  },
  {
   "cell_type": "code",
   "execution_count": 6,
   "id": "31d35898-be21-4b1b-9f0a-2dfd4c241dc2",
   "metadata": {},
   "outputs": [
    {
     "data": {
      "text/plain": [
       "Index(['Event.Id', 'Investigation.Type', 'Accident.Number', 'Event.Date',\n",
       "       'Location', 'Country', 'Latitude', 'Longitude', 'Airport.Code',\n",
       "       'Airport.Name', 'Injury.Severity', 'Aircraft.damage',\n",
       "       'Aircraft.Category', 'Registration.Number', 'Make', 'Model',\n",
       "       'Amateur.Built', 'Number.of.Engines', 'Engine.Type', 'FAR.Description',\n",
       "       'Schedule', 'Purpose.of.flight', 'Air.carrier', 'Total.Fatal.Injuries',\n",
       "       'Total.Serious.Injuries', 'Total.Minor.Injuries', 'Total.Uninjured',\n",
       "       'Weather.Condition', 'Broad.phase.of.flight', 'Report.Status',\n",
       "       'Publication.Date', 'Unnamed: 31', 'Unnamed: 32', 'Unnamed: 33',\n",
       "       'Unnamed: 34', 'Unnamed: 35', 'Unnamed: 36', 'Unnamed: 37'],\n",
       "      dtype='object')"
      ]
     },
     "execution_count": 6,
     "metadata": {},
     "output_type": "execute_result"
    }
   ],
   "source": [
    "df.columns"
   ]
  },
  {
   "cell_type": "code",
   "execution_count": 7,
   "id": "96d89464-38f9-4469-ac4b-34665077483f",
   "metadata": {},
   "outputs": [],
   "source": [
    "# Dropping columns that are irrelevant after inspection\n",
    "\n",
    "df1 =df.drop(columns = ['Event.Id','Accident.Number','Registration.Number','FAR.Description','Schedule','Publication.Date', 'Unnamed: 31', 'Unnamed: 32', 'Unnamed: 33',\n",
    "       'Unnamed: 34', 'Unnamed: 35', 'Unnamed: 36', 'Unnamed: 37' ],axis=1)"
   ]
  },
  {
   "cell_type": "code",
   "execution_count": 8,
   "id": "52258178-897e-4064-8b4b-3a077094491a",
   "metadata": {},
   "outputs": [],
   "source": [
    "# Coverting date to datetime\n",
    "\n",
    "df1['Event.Date'] = pd.to_datetime(df1['Event.Date'])\n",
    "\n",
    "#Adding day, month & year column\n",
    "\n",
    "df1['Year'] = df1['Event.Date'].dt.year\n",
    "df1['Month.Abbr'] = df1['Event.Date'].dt.month_name().str[:3]\n",
    "df1['Day.Name.Abbr'] = df1['Event.Date'].dt.day_name().str[:3]\n",
    "\n",
    "# Adding weekend column\n",
    "\n",
    "df1.loc[(df1['Day.Name.Abbr'] == 'Sat') | (df1['Day.Name.Abbr'] == 'Sun'), 'Weekend'] = True\n",
    "df1.loc[(df1['Day.Name.Abbr'] != 'Sat') & (df1['Day.Name.Abbr'] != 'Sun'), 'Weekend'] = False"
   ]
  },
  {
   "cell_type": "code",
   "execution_count": 86,
   "id": "ade977f6-8170-4bcb-99a0-592347b529c2",
   "metadata": {},
   "outputs": [
    {
     "data": {
      "text/plain": [
       "<AxesSubplot:>"
      ]
     },
     "execution_count": 86,
     "metadata": {},
     "output_type": "execute_result"
    },
    {
     "data": {
      "image/png": "[encoded data removed]",
      "text/plain": [
       "<Figure size 640x480 with 1 Axes>"
      ]
     },
     "metadata": {},
     "output_type": "display_data"
    }
   ],
   "source": [
    "df1 = df1[df1['Year']>1982]\n",
    "year_counts=df1['Year'].value_counts().sort_index()\n",
    "sns.lineplot(x=year_counts.index, y=year_counts.values, marker='o', color='purple')"
   ]
  },
  {
   "cell_type": "code",
   "execution_count": 10,
   "id": "2b972997-8f31-4b76-bec5-326a51e7b754",
   "metadata": {},
   "outputs": [],
   "source": []
  },
  {
   "cell_type": "code",
   "execution_count": 11,
   "id": "ff07007b-1321-444e-98ca-06e901bb5899",
   "metadata": {},
   "outputs": [],
   "source": [
    "df1['Location'].fillna('UNKNOWN',inplace=True)\n",
    "df1['Country'].fillna('UNKNOWN',inplace=True)\n",
    "df1['Aircraft.damage'].fillna('UNKNOWN',inplace=True)\n",
    "df1['Aircraft.damage'].replace({'Unknown':'UNKNOWN'},inplace=True)\n",
    "df1['Aircraft.Category'].fillna('UNKNOWN',inplace=True)\n",
    "df1['Purpose.of.flight'].fillna('UNKNOWN',inplace=True)\n",
    "df1['Amateur.Built'].fillna('UNKNOWN',inplace=True)\n",
    "df1['Airport.Name'].fillna('None',inplace=True)\n",
    "df1['Airport.Code'].fillna('None',inplace=True)\n",
    "df1['Model'].fillna('UNKNOWN',inplace=True)\n",
    "df1['Make'].fillna('UNKNOWN',inplace=True)\n",
    "df1['Number.of.Engines'].fillna('UNKNOWN',inplace=True)\n",
    "#df_US =df_US[df_US['Number.of.Engines'].str.contains(\"UNKNOWN\")==False]\n",
    "df1['Engine.Type'].fillna('UNKNOWN',inplace=True)\n",
    "#df_US =df_US[df_US['Engine.Type'].str.contains(\"Unknown\")==False]\n",
    "#df_US =df_US[df_US['Engine.Type'].str.contains(\"UNKNOWN\")==False]\n",
    "df1['Total.Fatal.Injuries'].fillna(0,inplace=True)\n",
    "df1['Total.Minor.Injuries'].fillna(0,inplace=True)\n",
    "df1['Total.Uninjured'].fillna(0,inplace=True)\n",
    "df1['Total.Serious.Injuries'].fillna(0,inplace=True)\n",
    "df1['Broad.phase.of.flight'].fillna('UNKNOWN',inplace = True)\n",
    "#df_US1 =df_US[df_US['Broad.phase.of.flight'].str.contains(\"Unknown\")==False]\n",
    "#df_US =df_US[df_US['Broad.phase.of.flight'].str.contains(\"UNKNOWN\")==False]\n",
    "df1['Weather.Condition'].fillna('UNKNOWN',inplace = True)"
   ]
  },
  {
   "cell_type": "code",
   "execution_count": 12,
   "id": "9fd3aa17-b7f3-4d9d-803c-d28ecc04d364",
   "metadata": {},
   "outputs": [],
   "source": [
    "df1['Country'] = df1['Country'].replace('MISSING', 'UNKNOWN')"
   ]
  },
  {
   "cell_type": "code",
   "execution_count": 13,
   "id": "069aa90d-d9a4-480d-a2df-1956aafa0383",
   "metadata": {},
   "outputs": [
    {
     "data": {
      "text/plain": [
       "Investigation.Type            0\n",
       "Event.Date                    0\n",
       "Location                      0\n",
       "Country                       0\n",
       "Latitude                  50910\n",
       "Longitude                 50919\n",
       "Airport.Code                  0\n",
       "Airport.Name                  0\n",
       "Injury.Severity            1000\n",
       "Aircraft.damage               0\n",
       "Aircraft.Category             0\n",
       "Make                          0\n",
       "Model                         0\n",
       "Amateur.Built                 0\n",
       "Number.of.Engines             0\n",
       "Engine.Type                   0\n",
       "Purpose.of.flight             0\n",
       "Air.carrier               68876\n",
       "Total.Fatal.Injuries          0\n",
       "Total.Serious.Injuries        0\n",
       "Total.Minor.Injuries          0\n",
       "Total.Uninjured               0\n",
       "Weather.Condition             0\n",
       "Broad.phase.of.flight         0\n",
       "Report.Status              6382\n",
       "Year                          0\n",
       "Month.Abbr                    0\n",
       "Day.Name.Abbr                 0\n",
       "Weekend                       0\n",
       "dtype: int64"
      ]
     },
     "execution_count": 13,
     "metadata": {},
     "output_type": "execute_result"
    }
   ],
   "source": [
    "df1.isnull().sum()"
   ]
  },
  {
   "cell_type": "code",
   "execution_count": 14,
   "id": "4f649dc2-badb-4b1e-a1fc-7963652fe9a9",
   "metadata": {},
   "outputs": [
    {
     "data": {
      "text/plain": [
       "UNKNOWN              56566\n",
       "Airplane             24441\n",
       "Helicopter            3151\n",
       "Glider                 456\n",
       "Balloon                201\n",
       "Weight-Shift           161\n",
       "Gyrocraft              158\n",
       "Powered Parachute       91\n",
       "Ultralight              29\n",
       "Unknown                 13\n",
       "WSFT                     9\n",
       "Powered-Lift             5\n",
       "Blimp                    4\n",
       "UNK                      2\n",
       "Rocket                   1\n",
       "ULTR                     1\n",
       "Name: Aircraft.Category, dtype: int64"
      ]
     },
     "execution_count": 14,
     "metadata": {},
     "output_type": "execute_result"
    }
   ],
   "source": [
    "df1['Aircraft.Category'].value_counts()"
   ]
  },
  {
   "cell_type": "code",
   "execution_count": 15,
   "id": "10d08095-0772-43da-ab2f-7372ea16e635",
   "metadata": {},
   "outputs": [],
   "source": [
    "df1=df1[(df1['Aircraft.Category']==\"UNKNOWN\") | (df1['Aircraft.Category']==\"Airplane\") | (df1['Aircraft.Category']==\"Helicopter\")]\n"
   ]
  },
  {
   "cell_type": "code",
   "execution_count": 16,
   "id": "750ec647-00df-4dd9-89d1-92a9d6ef30bd",
   "metadata": {},
   "outputs": [
    {
     "data": {
      "text/plain": [
       "UNKNOWN       56566\n",
       "Airplane      24441\n",
       "Helicopter     3151\n",
       "Name: Aircraft.Category, dtype: int64"
      ]
     },
     "execution_count": 16,
     "metadata": {},
     "output_type": "execute_result"
    }
   ],
   "source": [
    "df1['Aircraft.Category'].value_counts()"
   ]
  },
  {
   "cell_type": "code",
   "execution_count": 17,
   "id": "bf207479-5b0a-4b94-b23f-1748c255b05e",
   "metadata": {},
   "outputs": [
    {
     "data": {
      "text/plain": [
       "1.0        66070\n",
       "2.0        10571\n",
       "UNKNOWN     5908\n",
       "0.0          727\n",
       "3.0          461\n",
       "4.0          419\n",
       "8.0            1\n",
       "6.0            1\n",
       "Name: Number.of.Engines, dtype: int64"
      ]
     },
     "execution_count": 17,
     "metadata": {},
     "output_type": "execute_result"
    }
   ],
   "source": [
    "df1['Number.of.Engines'].value_counts()"
   ]
  },
  {
   "cell_type": "code",
   "execution_count": 18,
   "id": "612c509c-bc2a-41ae-a3ac-7b0b06fca334",
   "metadata": {},
   "outputs": [],
   "source": [
    "df1=df1[(df1['Number.of.Engines']==\"UNKNOWN\") | (df1['Number.of.Engines']==1.0) | (df1['Number.of.Engines']==2.0) | (df1['Number.of.Engines']==3.0) | (df1['Number.of.Engines']==4.0)]"
   ]
  },
  {
   "cell_type": "code",
   "execution_count": 19,
   "id": "b7eeeaf0-e869-4dc1-a529-716cc397a90a",
   "metadata": {},
   "outputs": [
    {
     "data": {
      "text/plain": [
       "1.0        66070\n",
       "2.0        10571\n",
       "UNKNOWN     5908\n",
       "3.0          461\n",
       "4.0          419\n",
       "Name: Number.of.Engines, dtype: int64"
      ]
     },
     "execution_count": 19,
     "metadata": {},
     "output_type": "execute_result"
    }
   ],
   "source": [
    "df1['Number.of.Engines'].value_counts()"
   ]
  },
  {
   "cell_type": "code",
   "execution_count": 20,
   "id": "0ccbe29a-c6cb-4372-aa91-af4a56d7cce8",
   "metadata": {},
   "outputs": [],
   "source": [
    "df1['Number.of.Engines']=df1['Number.of.Engines'].replace(1.0, 'one')\n",
    "df1['Number.of.Engines']=df1['Number.of.Engines'].replace(2.0, 'two')\n",
    "df1['Number.of.Engines']=df1['Number.of.Engines'].replace(3.0, 'three_to_four')\n",
    "df1['Number.of.Engines']=df1['Number.of.Engines'].replace(4.0, 'three_to_four')"
   ]
  },
  {
   "cell_type": "code",
   "execution_count": 21,
   "id": "77fb2cfa-adde-45ab-ae05-4ca6b050fc4d",
   "metadata": {},
   "outputs": [
    {
     "data": {
      "text/plain": [
       "one              66070\n",
       "two              10571\n",
       "UNKNOWN           5908\n",
       "three_to_four      880\n",
       "Name: Number.of.Engines, dtype: int64"
      ]
     },
     "execution_count": 21,
     "metadata": {},
     "output_type": "execute_result"
    }
   ],
   "source": [
    "df1['Number.of.Engines'].value_counts()"
   ]
  },
  {
   "cell_type": "code",
   "execution_count": 22,
   "id": "65a2d258-62a3-4a91-b492-e87f419cea40",
   "metadata": {},
   "outputs": [
    {
     "data": {
      "text/plain": [
       "Reciprocating      65819\n",
       "UNKNOWN             6325\n",
       "Turbo Shaft         3476\n",
       "Turbo Prop          3305\n",
       "Turbo Fan           2439\n",
       "Unknown             1367\n",
       "Turbo Jet            679\n",
       "Geared Turbofan       12\n",
       "Electric               6\n",
       "UNK                    1\n",
       "Name: Engine.Type, dtype: int64"
      ]
     },
     "execution_count": 22,
     "metadata": {},
     "output_type": "execute_result"
    }
   ],
   "source": [
    "df1['Engine.Type'].value_counts()"
   ]
  },
  {
   "cell_type": "code",
   "execution_count": 23,
   "id": "918badc7-7e19-4361-b351-f7b6fb0cd844",
   "metadata": {},
   "outputs": [],
   "source": [
    "df1['Engine.Type']=df1['Engine.Type'].replace('Unknown', 'UNKNOWN')\n",
    "df1['Engine.Type']=df1['Engine.Type'].replace('UNK', 'UNKNOWN')\n",
    "df1['Engine.Type']=df1['Engine.Type'].replace('Electric', 'UNKNOWN')\n",
    "df1['Engine.Type']=df1['Engine.Type'].replace('Geared Turbofan', 'Turbo Fan')"
   ]
  },
  {
   "cell_type": "code",
   "execution_count": 24,
   "id": "7725d685-dc65-48e6-9d1c-9dcb1719496a",
   "metadata": {},
   "outputs": [
    {
     "data": {
      "text/plain": [
       "Reciprocating    65819\n",
       "UNKNOWN           7699\n",
       "Turbo Shaft       3476\n",
       "Turbo Prop        3305\n",
       "Turbo Fan         2451\n",
       "Turbo Jet          679\n",
       "Name: Engine.Type, dtype: int64"
      ]
     },
     "execution_count": 24,
     "metadata": {},
     "output_type": "execute_result"
    }
   ],
   "source": [
    "df1['Engine.Type'].value_counts()"
   ]
  },
  {
   "cell_type": "code",
   "execution_count": null,
   "id": "127e4fc5-8231-4f5f-95ee-70a87dc8cf43",
   "metadata": {},
   "outputs": [],
   "source": []
  },
  {
   "cell_type": "code",
   "execution_count": 25,
   "id": "2250327c-f277-45f5-9669-4bde98180610",
   "metadata": {},
   "outputs": [
    {
     "data": {
      "text/plain": [
       "No         75339\n",
       "Yes         7989\n",
       "UNKNOWN      101\n",
       "Name: Amateur.Built, dtype: int64"
      ]
     },
     "execution_count": 25,
     "metadata": {},
     "output_type": "execute_result"
    }
   ],
   "source": [
    "df1['Amateur.Built'].value_counts()"
   ]
  },
  {
   "cell_type": "code",
   "execution_count": 26,
   "id": "532abb15-5a7d-484d-8211-713ee34c3d21",
   "metadata": {},
   "outputs": [
    {
     "data": {
      "text/plain": [
       "Personal                     46277\n",
       "Instructional                10001\n",
       "UNKNOWN                       6156\n",
       "Unknown                       6072\n",
       "Aerial Application            4546\n",
       "Business                      3664\n",
       "Positioning                   1640\n",
       "Other Work Use                1191\n",
       "Aerial Observation             741\n",
       "Ferry                          735\n",
       "Public Aircraft                645\n",
       "Executive/corporate            501\n",
       "Flight Test                    387\n",
       "Skydiving                      179\n",
       "External Load                  122\n",
       "Public Aircraft - Federal      104\n",
       "Banner Tow                     101\n",
       "Air Race show                   78\n",
       "Public Aircraft - Local         73\n",
       "Public Aircraft - State         64\n",
       "Air Race/show                   51\n",
       "Firefighting                    40\n",
       "Glider Tow                      39\n",
       "Air Drop                        11\n",
       "ASHO                             6\n",
       "PUBS                             4\n",
       "PUBL                             1\n",
       "Name: Purpose.of.flight, dtype: int64"
      ]
     },
     "execution_count": 26,
     "metadata": {},
     "output_type": "execute_result"
    }
   ],
   "source": [
    "df1['Purpose.of.flight'].value_counts()"
   ]
  },
  {
   "cell_type": "code",
   "execution_count": 27,
   "id": "475e295d-b862-4f19-bf68-e6e56f3ddbf3",
   "metadata": {},
   "outputs": [],
   "source": [
    "df1['Purpose.of.flight']=df1['Purpose.of.flight'].replace('Unknown', 'UNKNOWN')\n",
    "df1['Purpose.of.flight']=df1['Purpose.of.flight'].replace('Air Race/show', 'Air Race show')\n",
    "df1['Purpose.of.flight']=df1['Purpose.of.flight'].replace('Executive/corporate', 'Business')\n",
    "df1['Purpose.of.flight']=df1['Purpose.of.flight'].replace('PUBS', 'Public Aircraft')\n",
    "df1['Purpose.of.flight']=df1['Purpose.of.flight'].replace('PUBL', 'Public Aircraft')\n",
    "df1['Purpose.of.flight']=df1['Purpose.of.flight'].replace('Public Aircraft - Federal', 'Public Aircraft')\n",
    "df1['Purpose.of.flight']=df1['Purpose.of.flight'].replace('Public Aircraft - Local', 'Public Aircraft')\n",
    "df1['Purpose.of.flight']=df1['Purpose.of.flight'].replace('Public Aircraft - State', 'Public Aircraft')\n",
    "df1['Purpose.of.flight']=df1['Purpose.of.flight'].replace('Other Work Use', 'Other')\n",
    "df1['Purpose.of.flight']=df1['Purpose.of.flight'].replace('Skydiving', 'Other')\n",
    "df1['Purpose.of.flight']=df1['Purpose.of.flight'].replace('Air Race show', 'Other')\n",
    "df1['Purpose.of.flight']=df1['Purpose.of.flight'].replace('External Load', 'Other')\n",
    "df1['Purpose.of.flight']=df1['Purpose.of.flight'].replace('Firefighting', 'Other')\n",
    "df1['Purpose.of.flight']=df1['Purpose.of.flight'].replace('Banner Tow', 'Other')\n",
    "df1['Purpose.of.flight']=df1['Purpose.of.flight'].replace('Glider Tow', 'Other')\n",
    "df1['Purpose.of.flight']=df1['Purpose.of.flight'].replace('Air Drop', 'Other')\n",
    "df1['Purpose.of.flight']=df1['Purpose.of.flight'].replace('ASHO', 'Other')"
   ]
  },
  {
   "cell_type": "code",
   "execution_count": 28,
   "id": "716d27c3-2a71-40a5-8b51-26e23cc0586e",
   "metadata": {},
   "outputs": [
    {
     "data": {
      "text/plain": [
       "Personal              46277\n",
       "UNKNOWN               12228\n",
       "Instructional         10001\n",
       "Aerial Application     4546\n",
       "Business               4165\n",
       "Other                  1818\n",
       "Positioning            1640\n",
       "Public Aircraft         891\n",
       "Aerial Observation      741\n",
       "Ferry                   735\n",
       "Flight Test             387\n",
       "Name: Purpose.of.flight, dtype: int64"
      ]
     },
     "execution_count": 28,
     "metadata": {},
     "output_type": "execute_result"
    }
   ],
   "source": [
    "df1['Purpose.of.flight'].value_counts()"
   ]
  },
  {
   "cell_type": "code",
   "execution_count": 29,
   "id": "2bc0b732-64cb-404e-813f-8a38535d4437",
   "metadata": {},
   "outputs": [
    {
     "data": {
      "text/plain": [
       "VMC        72346\n",
       "IMC         5625\n",
       "UNKNOWN     4443\n",
       "UNK          756\n",
       "Unk          259\n",
       "Name: Weather.Condition, dtype: int64"
      ]
     },
     "execution_count": 29,
     "metadata": {},
     "output_type": "execute_result"
    }
   ],
   "source": [
    "df1['Weather.Condition'].value_counts()"
   ]
  },
  {
   "cell_type": "code",
   "execution_count": 30,
   "id": "6e5f2d30-c33d-49cf-9f91-569c600fddb4",
   "metadata": {},
   "outputs": [],
   "source": [
    "df1['Weather.Condition']=df1['Weather.Condition'].replace('Unk', 'UNKNOWN')\n",
    "df1['Weather.Condition']=df1['Weather.Condition'].replace('UNK', 'UNKNOWN')"
   ]
  },
  {
   "cell_type": "code",
   "execution_count": 31,
   "id": "61a31262-981f-4c73-b9ae-5525aab2a7e6",
   "metadata": {},
   "outputs": [
    {
     "data": {
      "text/plain": [
       "VMC        72346\n",
       "IMC         5625\n",
       "UNKNOWN     5458\n",
       "Name: Weather.Condition, dtype: int64"
      ]
     },
     "execution_count": 31,
     "metadata": {},
     "output_type": "execute_result"
    }
   ],
   "source": [
    "df1['Weather.Condition'].value_counts()"
   ]
  },
  {
   "cell_type": "code",
   "execution_count": 32,
   "id": "d90ba71f-4aac-416c-9102-f1e5014e2f08",
   "metadata": {},
   "outputs": [
    {
     "data": {
      "text/plain": [
       "UNKNOWN        26005\n",
       "Landing        14259\n",
       "Takeoff        11644\n",
       "Cruise          9582\n",
       "Maneuvering     7649\n",
       "Approach        6009\n",
       "Climb           1926\n",
       "Taxi            1822\n",
       "Descent         1745\n",
       "Go-around       1295\n",
       "Standing         904\n",
       "Unknown          487\n",
       "Other            102\n",
       "Name: Broad.phase.of.flight, dtype: int64"
      ]
     },
     "execution_count": 32,
     "metadata": {},
     "output_type": "execute_result"
    }
   ],
   "source": [
    "df1['Broad.phase.of.flight'].value_counts()"
   ]
  },
  {
   "cell_type": "code",
   "execution_count": 33,
   "id": "5e155991-ecf8-4a81-84f1-85ceebb84095",
   "metadata": {},
   "outputs": [],
   "source": [
    "df1['Broad.phase.of.flight']=df1['Broad.phase.of.flight'].replace('Unknown', 'UNKNOWN')\n",
    "df1['Broad.phase.of.flight']=df1['Broad.phase.of.flight'].replace('Other', 'UNKNOWN')"
   ]
  },
  {
   "cell_type": "code",
   "execution_count": 34,
   "id": "d02ebb74-a55d-4d89-976b-6d0c2c6f0adc",
   "metadata": {},
   "outputs": [
    {
     "data": {
      "text/plain": [
       "UNKNOWN        26594\n",
       "Landing        14259\n",
       "Takeoff        11644\n",
       "Cruise          9582\n",
       "Maneuvering     7649\n",
       "Approach        6009\n",
       "Climb           1926\n",
       "Taxi            1822\n",
       "Descent         1745\n",
       "Go-around       1295\n",
       "Standing         904\n",
       "Name: Broad.phase.of.flight, dtype: int64"
      ]
     },
     "execution_count": 34,
     "metadata": {},
     "output_type": "execute_result"
    }
   ],
   "source": [
    "df1['Broad.phase.of.flight'].value_counts()"
   ]
  },
  {
   "cell_type": "code",
   "execution_count": 35,
   "id": "d53f9368-4146-487a-a1a0-7d2561d84fd1",
   "metadata": {},
   "outputs": [
    {
     "name": "stdout",
     "output_type": "stream",
     "text": [
      "<class 'pandas.core.frame.DataFrame'>\n",
      "Int64Index: 83429 entries, 3600 to 88888\n",
      "Data columns (total 29 columns):\n",
      " #   Column                  Non-Null Count  Dtype         \n",
      "---  ------                  --------------  -----         \n",
      " 0   Investigation.Type      83429 non-null  object        \n",
      " 1   Event.Date              83429 non-null  datetime64[ns]\n",
      " 2   Location                83429 non-null  object        \n",
      " 3   Country                 83429 non-null  object        \n",
      " 4   Latitude                33160 non-null  object        \n",
      " 5   Longitude               33151 non-null  object        \n",
      " 6   Airport.Code            83429 non-null  object        \n",
      " 7   Airport.Name            83429 non-null  object        \n",
      " 8   Injury.Severity         82434 non-null  object        \n",
      " 9   Aircraft.damage         83429 non-null  object        \n",
      " 10  Aircraft.Category       83429 non-null  object        \n",
      " 11  Make                    83429 non-null  object        \n",
      " 12  Model                   83429 non-null  object        \n",
      " 13  Amateur.Built           83429 non-null  object        \n",
      " 14  Number.of.Engines       83429 non-null  object        \n",
      " 15  Engine.Type             83429 non-null  object        \n",
      " 16  Purpose.of.flight       83429 non-null  object        \n",
      " 17  Air.carrier             15965 non-null  object        \n",
      " 18  Total.Fatal.Injuries    83429 non-null  float64       \n",
      " 19  Total.Serious.Injuries  83429 non-null  float64       \n",
      " 20  Total.Minor.Injuries    83429 non-null  float64       \n",
      " 21  Total.Uninjured         83429 non-null  float64       \n",
      " 22  Weather.Condition       83429 non-null  object        \n",
      " 23  Broad.phase.of.flight   83429 non-null  object        \n",
      " 24  Report.Status           77175 non-null  object        \n",
      " 25  Year                    83429 non-null  int64         \n",
      " 26  Month.Abbr              83429 non-null  object        \n",
      " 27  Day.Name.Abbr           83429 non-null  object        \n",
      " 28  Weekend                 83429 non-null  object        \n",
      "dtypes: datetime64[ns](1), float64(4), int64(1), object(23)\n",
      "memory usage: 19.1+ MB\n"
     ]
    }
   ],
   "source": [
    "df1.info()"
   ]
  },
  {
   "cell_type": "code",
   "execution_count": 36,
   "id": "2fcb940a-d0c9-4bb0-989a-8f00eb182b71",
   "metadata": {},
   "outputs": [
    {
     "data": {
      "text/plain": [
       "Non-Fatal      63082\n",
       "Fatal          16829\n",
       "Incident        2079\n",
       "Minor            209\n",
       "Serious          160\n",
       "Unavailable       75\n",
       "Name: Injury.Severity, dtype: int64"
      ]
     },
     "execution_count": 36,
     "metadata": {},
     "output_type": "execute_result"
    }
   ],
   "source": [
    "df1['Injury.Severity'] = df1['Injury.Severity'].str.split('(').str[0]\n",
    "df1['Injury.Severity'].value_counts()"
   ]
  },
  {
   "cell_type": "code",
   "execution_count": 37,
   "id": "ce7126ee-d91b-4e32-93a9-5747da610fd8",
   "metadata": {},
   "outputs": [
    {
     "data": {
      "text/plain": [
       "995"
      ]
     },
     "execution_count": 37,
     "metadata": {},
     "output_type": "execute_result"
    }
   ],
   "source": [
    "df1['Injury.Severity'].isna().sum()"
   ]
  },
  {
   "cell_type": "code",
   "execution_count": 38,
   "id": "c0205937-1e67-4070-b1e2-ecc077e437d6",
   "metadata": {},
   "outputs": [],
   "source": [
    "df1['Injury.Severity'].fillna('Unavailable',inplace = True)"
   ]
  },
  {
   "cell_type": "code",
   "execution_count": 39,
   "id": "7cfdfac1-7f12-490b-99dc-8273d9b7e1e2",
   "metadata": {},
   "outputs": [],
   "source": [
    "df1['Make']=df1['Make'].str.title()"
   ]
  },
  {
   "cell_type": "code",
   "execution_count": 40,
   "id": "59a47e43-9ed6-44ab-bae9-504ef8e81740",
   "metadata": {},
   "outputs": [],
   "source": [
    "df1 = df1[df1['Make']!='Balloon Works']"
   ]
  },
  {
   "cell_type": "code",
   "execution_count": 41,
   "id": "ebde6c79-770b-4eea-b933-09cb8b33b3cd",
   "metadata": {},
   "outputs": [
    {
     "data": {
      "text/plain": [
       "Cessna                            25777\n",
       "Piper                             14095\n",
       "Beech                              5097\n",
       "Boeing                             2680\n",
       "Bell                               2581\n",
       "Mooney                             1277\n",
       "Robinson                           1207\n",
       "Grumman                            1065\n",
       "Bellanca                            982\n",
       "Hughes                              873\n",
       "Air Tractor                         673\n",
       "Aeronca                             607\n",
       "Mcdonnell Douglas                   591\n",
       "Maule                               570\n",
       "Schweizer                           549\n",
       "Champion                            507\n",
       "Stinson                             421\n",
       "Aero Commander                      412\n",
       "De Havilland                        404\n",
       "Luscombe                            391\n",
       "North American                      370\n",
       "Taylorcraft                         366\n",
       "Aerospatiale                        361\n",
       "Rockwell                            338\n",
       "Hiller                              330\n",
       "Airbus                              290\n",
       "Enstrom                             280\n",
       "Douglas                             264\n",
       "Embraer                             236\n",
       "Ayres                               234\n",
       "Robinson Helicopter                 230\n",
       "Sikorsky                            225\n",
       "Cirrus Design Corp                  223\n",
       "Eurocopter                          220\n",
       "Air Tractor Inc                     219\n",
       "Grumman American                    213\n",
       "Robinson Helicopter Company         193\n",
       "Swearingen                          162\n",
       "Airbus Industrie                    161\n",
       "Ercoupe (Eng & Research Corp.)      160\n",
       "Fairchild                           155\n",
       "Cirrus                              150\n",
       "Pitts                               145\n",
       "Waco                                140\n",
       "Aviat                               140\n",
       "Lake                                139\n",
       "Learjet                             134\n",
       "Mitsubishi                          133\n",
       "Vans                                129\n",
       "Grumman-Schweizer                   127\n",
       "Name: Make, dtype: int64"
      ]
     },
     "execution_count": 41,
     "metadata": {},
     "output_type": "execute_result"
    }
   ],
   "source": [
    "make = df1['Make'].value_counts()\n",
    "make.head(50)"
   ]
  },
  {
   "cell_type": "markdown",
   "id": "ce24f047-bf8b-46ec-969c-6ecbade6202e",
   "metadata": {},
   "source": [
    "df1['Make']=df1['Make'].replace('Robinson Helicopter', 'Robinson')\n",
    "df1['Make']=df1['Make'].replace('Robinson Helicopter Company', 'Robinson')\n",
    "df1['Make']=df1['Make'].replace('Cirrus Design Corp', 'Cirrus')\n",
    "df1['Make']=df1['Make'].replace('Air Tractor Inc', 'Air Tractor')\n",
    "df1['Make']=df1['Make'].replace('Airbus Industrie', 'Airbus')\n",
    "df1['Make']=df1['Make'].replace('Grumman American', 'Grumman')\n",
    "df1['Make']=df1['Make'].replace('Douglas', 'Mcdonnell Douglas')\n",
    "df1['Make']=df1['Make'].replace('Ercoupe (Eng & Research Corp.)', 'Ercoupe')\n",
    "df1['Make']=df1['Make'].replace('Cirrus Design Corp.', 'Cirrus')\n",
    "df1['Make']=df1['Make'].replace('Rockwell International', 'Rockwell')\n",
    "df1['Make']=df1['Make'].replace('Fairchild', 'Swearingen')\n",
    "df1['Make']=df1['Make'].replace('Aviat Aircraft Inc', 'Aviat')\n",
    "df1['Make']=df1['Make'].replace('Pitts', 'Aviat')\n",
    "df1['Make']=df1['Make'].replace('Navion', 'Ryan')\n",
    "df1['Make']=df1['Make'].replace('Bombardier Inc', 'Bombardier')\n",
    "df1['Make']=df1['Make'].replace('Bombardier Inc', 'Bombardier')"
   ]
  },
  {
   "cell_type": "code",
   "execution_count": 42,
   "id": "f83220de-a357-4ba0-817b-1ba9abe97af9",
   "metadata": {},
   "outputs": [],
   "source": [
    "df1['Make'] = df1['Make'].replace(r'^Robinson.*', 'Robinson', regex=True)\n",
    "df1['Make'] = df1['Make'].replace(r'^Air Tractor.*', 'Air Tractor', regex=True)\n",
    "df1['Make'] = df1['Make'].replace(r'^Douglas.*', 'Mcdonnell Douglas', regex=True)\n",
    "df1['Make'] = df1['Make'].replace(r'^douglas.*', 'Mcdonnell Douglas', regex=True)\n",
    "df1['Make'] = df1['Make'].replace(r'^Mcdonnell.*', 'Mcdonnell Douglas', regex=True)\n",
    "df1['Make'] = df1['Make'].replace(r'^Cirrus.*', 'Cirrus', regex=True)\n",
    "df1['Make'] = df1['Make'].replace(r'^Airbus.*', 'Airbus', regex=True)\n",
    "df1['Make'] = df1['Make'].replace(r'^Grumman.*', 'Grumman', regex=True)\n",
    "df1['Make'] = df1['Make'].replace(r'^Ercoupe.*', 'Ercoupe', regex=True)\n",
    "\n",
    "df1['Make'] = df1['Make'].replace(r'^Aviat.*', 'Aviat', regex=True)\n",
    "df1['Make'] = df1['Make'].replace(r'^Bombardier.*', 'Bombardier', regex=True)\n",
    "df1['Make'] = df1['Make'].replace(r'^Aerostar.*', 'Aerostar', regex=True)\n",
    "df1['Make'] = df1['Make'].replace(r'^Wsk.*', 'WSK', regex=True)\n",
    "df1['Make'] = df1['Make'].replace(r'^Boeing.*', 'Boeing', regex=True)\n",
    "df1['Make'] = df1['Make'].replace(r'^Cessna.*', 'Cessna', regex=True)\n",
    "df1['Make'] = df1['Make'].replace(r'^Piper.*', 'Piper', regex=True)\n",
    "df1['Make'] = df1['Make'].replace(r'^Beech.*', 'Beech', regex=True)\n",
    "df1['Make'] = df1['Make'].replace(r'^Bell.*', 'Bell', regex=True)\n",
    "df1['Make'] = df1['Make'].replace(r'^Mooney.*', 'Mooney', regex=True)\n",
    "df1['Make'] = df1['Make'].replace(r'^Hughes.*', 'Hughes', regex=True)\n",
    "df1['Make'] = df1['Make'].replace(r'^Aeronca.*', 'Aeronca', regex=True)\n",
    "\n",
    "df1['Make'] = df1['Make'].replace(r'^Maule.*', 'Maule', regex=True)\n",
    "df1['Make'] = df1['Make'].replace(r'^Aeronca.*', 'Aeronca', regex=True)\n",
    "df1['Make'] = df1['Make'].replace(r'^Champion.*', 'Champion', regex=True)\n",
    "df1['Make'] = df1['Make'].replace(r'^Stinson.*', 'Stinson', regex=True)\n",
    "df1['Make'] = df1['Make'].replace(r'^Rockwell.*', 'Rockwell', regex=True)\n",
    "df1['Make'] = df1['Make'].replace(r'^Aero Commander.*', 'Aero Commander', regex=True)\n",
    "df1['Make'] = df1['Make'].replace(r'^Ayers.*', 'Ayres Thrush', regex=True)\n",
    "\n",
    "\n",
    "df1['Make'] = df1['Make'].replace(r'^De Havillande.*', 'De Havilland', regex=True)\n",
    "df1['Make'] = df1['Make'].replace(r'^Luscombe.*', 'Luscombe', regex=True)\n",
    "df1['Make'] = df1['Make'].replace(r'^Champion.*', 'Champion', regex=True)\n",
    "df1['Make'] = df1['Make'].replace(r'^North American.*', 'North American', regex=True)\n",
    "df1['Make'] = df1['Make'].replace(r'^Taylorcraft.*', 'Taylorcraft', regex=True)\n",
    "df1['Make'] = df1['Make'].replace(r'^Aerospatiale.*', 'Aerospatiale', regex=True)"
   ]
  },
  {
   "cell_type": "code",
   "execution_count": 43,
   "id": "dda97b3f-c9b1-4e4f-943b-7dad8234028b",
   "metadata": {},
   "outputs": [],
   "source": [
    "df1['Make'] = df1['Make'].replace(r'^Hiller.*', 'Hiller', regex=True)\n",
    "df1['Make'] = df1['Make'].replace(r'^Swearingen.*', 'Swearingen', regex=True)\n",
    "df1['Make'] = df1['Make'].replace(r'^Enstrom.*', 'Enstrom', regex=True)\n",
    "df1['Make'] = df1['Make'].replace(r'^Embraer.*', 'Embraer', regex=True)\n",
    "df1['Make'] = df1['Make'].replace(r'^Aviat.*', 'Aviat', regex=True)\n",
    "df1['Make'] = df1['Make'].replace(r'^Ercoupe.*', 'Ercoupe', regex=True)\n",
    "df1['Make'] = df1['Make'].replace(r'^Gulfstream.*', 'Gulfstream', regex=True)\n",
    "df1['Make'] = df1['Make'].replace(r'^Sikorsky.*', 'Sikorsky', regex=True)\n",
    "df1['Make'] = df1['Make'].replace(r'^Eurocopter.*', 'Eurocopter', regex=True)\n",
    "df1['Make'] = df1['Make'].replace(r'^Dehavilland.*', 'De Havilland', regex=True)\n",
    "df1['Make'] = df1['Make'].replace(r'^Gulfstream.*', 'Gulfstream', regex=True)\n",
    "df1['Make'] = df1['Make'].replace(r'^Raytheon.*', 'Raytheon', regex=True)\n",
    "df1['Make'] = df1['Make'].replace(r'^Diamond.*', 'Diamond', regex=True)"
   ]
  },
  {
   "cell_type": "code",
   "execution_count": 44,
   "id": "e4449cb0-d7f7-47e0-8020-62ac56e1d761",
   "metadata": {},
   "outputs": [],
   "source": [
    "df1['Make']=df1['Make'].replace('Fairchild', 'Swearingen')\n",
    "df1['Make']=df1['Make'].replace('Navion', 'Ryan')\n",
    "df1['Make']=df1['Make'].replace('Aerostar', 'Piper')\n",
    "df1['Make']=df1['Make'].replace('Aerostar', 'Piper')\n",
    "df1['Make']=df1['Make'].replace('Grumman American Avn. Corp.', 'Grumman')\n",
    "df1['Make']=df1['Make'].replace('Grumman Acft Eng Cor-Schweizer', 'Schweizer')\n",
    "df1['Make']=df1['Make'].replace('Gulfstream American', 'Gulfstream')\n",
    "df1['Make']=df1['Make'].replace('Eurocopter France', 'Eurocopter')\n",
    "df1['Make']=df1['Make'].replace('Ayres Corporation', 'Ayres')\n",
    "df1['Make']=df1['Make'].replace('Mooney Aircraft Corp.', 'Mooney')\n",
    "df1['Make']=df1['Make'].replace('Mcdonnell Douglas Helicopter', 'Mcdonnell Douglas')\n",
    "df1['Make']=df1['Make'].replace('The Boeing Company', 'Boeing')\n",
    "df1['Make']=df1['Make'].replace('Schweizer Aircraft Corp', 'Schweizer')\n"
   ]
  },
  {
   "cell_type": "code",
   "execution_count": 45,
   "id": "e30561c9-ae19-441f-a268-18deebd8bc15",
   "metadata": {},
   "outputs": [
    {
     "data": {
      "text/plain": [
       "Cessna               25838\n",
       "Piper                14235\n",
       "Beech                 5133\n",
       "Bell                  3648\n",
       "Boeing                2766\n",
       "Robinson              1658\n",
       "Grumman               1527\n",
       "Mooney                1328\n",
       "Mcdonnell Douglas      918\n",
       "Air Tractor            900\n",
       "Hughes                 881\n",
       "Aeronca                610\n",
       "Maule                  572\n",
       "Schweizer              569\n",
       "Champion               507\n",
       "De Havilland           506\n",
       "Airbus                 472\n",
       "Cirrus                 466\n",
       "Stinson                421\n",
       "Rockwell               413\n",
       "Aero Commander         412\n",
       "Luscombe               392\n",
       "North American         389\n",
       "Taylorcraft            377\n",
       "Aerospatiale           363\n",
       "Hiller                 340\n",
       "Swearingen             318\n",
       "Eurocopter             297\n",
       "Enstrom                287\n",
       "Ayres                  279\n",
       "Embraer                256\n",
       "Aviat                  235\n",
       "Ercoupe                234\n",
       "Sikorsky               228\n",
       "Gulfstream             217\n",
       "Ryan                   183\n",
       "Diamond                181\n",
       "Bombardier             171\n",
       "Pitts                  145\n",
       "Waco                   140\n",
       "Lake                   139\n",
       "Learjet                134\n",
       "Mitsubishi             133\n",
       "Vans                   129\n",
       "Socata                 126\n",
       "Raytheon               121\n",
       "Lockheed               118\n",
       "WSK                    110\n",
       "Helio                  108\n",
       "Globe                   96\n",
       "Name: Make, dtype: int64"
      ]
     },
     "execution_count": 45,
     "metadata": {},
     "output_type": "execute_result"
    }
   ],
   "source": [
    "make = df1['Make'].value_counts()\n",
    "\n",
    "make.to_csv('make.csv',index=True)\n",
    "make.head(50)"
   ]
  },
  {
   "cell_type": "code",
   "execution_count": null,
   "id": "07f3dcf5-28af-4b67-9b1b-1335c5548ab9",
   "metadata": {},
   "outputs": [],
   "source": []
  },
  {
   "cell_type": "code",
   "execution_count": 46,
   "id": "32a38971-6e45-4687-815a-34afa82f1ad4",
   "metadata": {},
   "outputs": [],
   "source": [
    "top49 = df1['Make'].value_counts().nlargest(49).index"
   ]
  },
  {
   "cell_type": "code",
   "execution_count": 47,
   "id": "e83ec91d-289a-40ce-bafd-aa5ef43c9342",
   "metadata": {},
   "outputs": [],
   "source": [
    "df1['Make_class'] = df1['Make'].where(df1['Make'].isin(top49), 'Other')"
   ]
  },
  {
   "cell_type": "code",
   "execution_count": 48,
   "id": "c3b6a592-3f44-45ae-bb03-5015c36df431",
   "metadata": {},
   "outputs": [
    {
     "data": {
      "text/plain": [
       "Cessna               25838\n",
       "Piper                14235\n",
       "Other                13411\n",
       "Beech                 5133\n",
       "Bell                  3648\n",
       "Boeing                2766\n",
       "Robinson              1658\n",
       "Grumman               1527\n",
       "Mooney                1328\n",
       "Mcdonnell Douglas      918\n",
       "Air Tractor            900\n",
       "Hughes                 881\n",
       "Aeronca                610\n",
       "Maule                  572\n",
       "Schweizer              569\n",
       "Champion               507\n",
       "De Havilland           506\n",
       "Airbus                 472\n",
       "Cirrus                 466\n",
       "Stinson                421\n",
       "Rockwell               413\n",
       "Aero Commander         412\n",
       "Luscombe               392\n",
       "North American         389\n",
       "Taylorcraft            377\n",
       "Aerospatiale           363\n",
       "Hiller                 340\n",
       "Swearingen             318\n",
       "Eurocopter             297\n",
       "Enstrom                287\n",
       "Ayres                  279\n",
       "Embraer                256\n",
       "Aviat                  235\n",
       "Ercoupe                234\n",
       "Sikorsky               228\n",
       "Gulfstream             217\n",
       "Ryan                   183\n",
       "Diamond                181\n",
       "Bombardier             171\n",
       "Pitts                  145\n",
       "Waco                   140\n",
       "Lake                   139\n",
       "Learjet                134\n",
       "Mitsubishi             133\n",
       "Vans                   129\n",
       "Socata                 126\n",
       "Raytheon               121\n",
       "Lockheed               118\n",
       "WSK                    110\n",
       "Helio                  108\n",
       "Name: Make_class, dtype: int64"
      ]
     },
     "execution_count": 48,
     "metadata": {},
     "output_type": "execute_result"
    }
   ],
   "source": [
    "df1['Make_class'].value_counts()"
   ]
  },
  {
   "cell_type": "code",
   "execution_count": null,
   "id": "4e08499d-936e-4ab0-a84d-7428c147270f",
   "metadata": {},
   "outputs": [],
   "source": []
  },
  {
   "cell_type": "code",
   "execution_count": 49,
   "id": "9e200818-4774-4fcb-98d6-e98e8f826ff1",
   "metadata": {},
   "outputs": [],
   "source": [
    "df1.loc[df['Make'] == 'Cessna', 'Aircraft.Category'] = 'Airplane'\n",
    "df1.loc[df['Make'] == 'Piper', 'Aircraft.Category'] = 'Airplane'\n",
    "df1.loc[df['Make'] == 'Beech', 'Aircraft.Category'] = 'Airplane'\n",
    "df1.loc[df['Make'] == 'Bell', 'Aircraft.Category'] = 'Helicopter'\n",
    "df1.loc[df['Make'] == 'Robinson', 'Aircraft.Category'] = 'Helicopter'\n",
    "df1.loc[df['Make'] == 'Hughes', 'Aircraft.Category'] = 'Helicopter'\n",
    "df1.loc[df['Make'] == 'Boeing', 'Aircraft.Category'] = 'Airplane'\n",
    "df1.loc[df['Make'] == 'Mooney', 'Aircraft.Category'] = 'Airplane'\n",
    "df1.loc[df['Make'] == 'Grumman', 'Aircraft.Category'] = 'Airplane'\n",
    "df1.loc[df['Make'] == 'Air tractor', 'Aircraft.Category'] = 'Airplane'\n",
    "df1.loc[df['Make'] == 'Maule', 'Aircraft.Category'] = 'Airplane'\n",
    "df1.loc[df['Make'] == 'Champion', 'Aircraft.Category'] = 'Airplane'\n",
    "df1.loc[df['Make'] == 'Stinson', 'Aircraft.Category'] = 'Airplane'\n",
    "df1.loc[df['Make'] == 'Luscombe', 'Aircraft.Category'] = 'Airplane'\n",
    "df1.loc[df['Make'] == 'Aero Commander', 'Aircraft.Category'] = 'Airplane'\n",
    "df1.loc[df['Make'] == 'Taylorcraft', 'Aircraft.Category'] = 'Airplane'\n",
    "df1.loc[df['Make'] == 'Rockwell', 'Aircraft.Category'] = 'Airplane'\n",
    "df1.loc[df['Make'] == 'Hiller', 'Aircraft.Category'] = 'Helicopter'\n",
    "df1.loc[df['Make'] == 'Eurocopter', 'Aircraft.Category'] = 'Helicopter'\n",
    "df1.loc[df['Make'] == 'Cirrus', 'Aircraft.Category'] = 'Airplane'\n",
    "df1.loc[df['Make'] == 'Aeronca', 'Aircraft.Category'] = 'Airplane'\n",
    "df1.loc[df['Make'] == 'De havilland', 'Aircraft.Category'] = 'Airplane'\n",
    "df1.loc[df['Make'] == 'North American', 'Aircraft.Category'] = 'Airplane'\n",
    "df1.loc[df['Make'] == 'Enstrom', 'Aircraft.Category'] = 'Helicopter'\n",
    "df1.loc[df['Make'] == 'Ayres', 'Aircraft.Category'] = 'Airplane'\n",
    "df1.loc[df['Make'] == 'Sikorsky', 'Aircraft.Category'] = 'Helicopter'\n",
    "df1.loc[df['Make'] == 'Mcdonnell Douglas', 'Aircraft.Category'] = 'Airplane'\n",
    "df1.loc[df['Make'] == 'Airbus', 'Aircraft.Category'] = 'Airplane'\n",
    "df1.loc[df['Make'] == 'Swearingen', 'Aircraft.Category'] = 'Airplane'\n",
    "df1.loc[df['Make'] == 'Embraer', 'Aircraft.Category'] = 'Airplane'\n",
    "df1.loc[df['Make'] == 'Aviat', 'Aircraft.Category'] = 'Airplane'\n",
    "df1.loc[df['Make'] == 'Ercoupe', 'Aircraft.Category'] = 'Airplane'\n",
    "df1.loc[df['Make'] == 'Gulfstream', 'Aircraft.Category'] = 'Airplane'\n",
    "df1.loc[df['Make'] == 'Ryan', 'Aircraft.Category'] = 'Airplane'\n",
    "df1.loc[df['Make'] == 'Diamond', 'Aircraft.Category'] = 'Airplane'\n",
    "df1.loc[df['Make'] == 'Bombardier', 'Aircraft.Category'] = 'Airplane'\n",
    "df1.loc[df['Make'] == 'Pitts', 'Aircraft.Category'] = 'Airplane'\n",
    "df1.loc[df['Make'] == 'Waco', 'Aircraft.Category'] = 'Airplane'\n",
    "df1.loc[df['Make'] == 'Lake', 'Aircraft.Category'] = 'Airplane'\n",
    "\n",
    "df1.loc[df['Make'] == 'Learjet', 'Aircraft.Category'] = 'Airplane'\n",
    "df1.loc[df['Make'] == 'Mitsubishi', 'Aircraft.Category'] = 'Airplane'\n",
    "df1.loc[df['Make'] == 'Vans', 'Aircraft.Category'] = 'Airplane'\n",
    "df1.loc[df['Make'] == 'Socata', 'Aircraft.Category'] = 'Airplane'\n",
    "df1.loc[df['Make'] == 'Raytheon', 'Aircraft.Category'] = 'Airplane'\n",
    "df1.loc[df['Make'] == 'Helio', 'Aircraft.Category'] = 'Airplane'\n"
   ]
  },
  {
   "cell_type": "code",
   "execution_count": 50,
   "id": "f26161f4-28ad-4f65-8cea-8852568e870c",
   "metadata": {},
   "outputs": [
    {
     "data": {
      "text/plain": [
       "Airplane      64431\n",
       "UNKNOWN       11960\n",
       "Helicopter     6950\n",
       "Name: Aircraft.Category, dtype: int64"
      ]
     },
     "execution_count": 50,
     "metadata": {},
     "output_type": "execute_result"
    }
   ],
   "source": [
    "df1['Aircraft.Category'].value_counts()"
   ]
  },
  {
   "cell_type": "code",
   "execution_count": null,
   "id": "9de204eb-d4ec-4ca5-8e4a-f59e00914daa",
   "metadata": {},
   "outputs": [],
   "source": [
    "\n",
    "\n"
   ]
  },
  {
   "cell_type": "code",
   "execution_count": 51,
   "id": "8c5161e7-33e1-4948-b653-e32a8e3647d5",
   "metadata": {},
   "outputs": [],
   "source": [
    "df1['Airport.Name']=df1['Airport.Name'].str.title()"
   ]
  },
  {
   "cell_type": "code",
   "execution_count": 52,
   "id": "72ac39f7-f5c7-4b44-8331-98de3e052ce1",
   "metadata": {},
   "outputs": [
    {
     "name": "stdout",
     "output_type": "stream",
     "text": [
      "<class 'pandas.core.frame.DataFrame'>\n",
      "Int64Index: 83341 entries, 3600 to 88888\n",
      "Data columns (total 30 columns):\n",
      " #   Column                  Non-Null Count  Dtype         \n",
      "---  ------                  --------------  -----         \n",
      " 0   Investigation.Type      83341 non-null  object        \n",
      " 1   Event.Date              83341 non-null  datetime64[ns]\n",
      " 2   Location                83341 non-null  object        \n",
      " 3   Country                 83341 non-null  object        \n",
      " 4   Latitude                33159 non-null  object        \n",
      " 5   Longitude               33150 non-null  object        \n",
      " 6   Airport.Code            83341 non-null  object        \n",
      " 7   Airport.Name            83341 non-null  object        \n",
      " 8   Injury.Severity         83341 non-null  object        \n",
      " 9   Aircraft.damage         83341 non-null  object        \n",
      " 10  Aircraft.Category       83341 non-null  object        \n",
      " 11  Make                    83341 non-null  object        \n",
      " 12  Model                   83341 non-null  object        \n",
      " 13  Amateur.Built           83341 non-null  object        \n",
      " 14  Number.of.Engines       83341 non-null  object        \n",
      " 15  Engine.Type             83341 non-null  object        \n",
      " 16  Purpose.of.flight       83341 non-null  object        \n",
      " 17  Air.carrier             15965 non-null  object        \n",
      " 18  Total.Fatal.Injuries    83341 non-null  float64       \n",
      " 19  Total.Serious.Injuries  83341 non-null  float64       \n",
      " 20  Total.Minor.Injuries    83341 non-null  float64       \n",
      " 21  Total.Uninjured         83341 non-null  float64       \n",
      " 22  Weather.Condition       83341 non-null  object        \n",
      " 23  Broad.phase.of.flight   83341 non-null  object        \n",
      " 24  Report.Status           77087 non-null  object        \n",
      " 25  Year                    83341 non-null  int64         \n",
      " 26  Month.Abbr              83341 non-null  object        \n",
      " 27  Day.Name.Abbr           83341 non-null  object        \n",
      " 28  Weekend                 83341 non-null  object        \n",
      " 29  Make_class              83341 non-null  object        \n",
      "dtypes: datetime64[ns](1), float64(4), int64(1), object(24)\n",
      "memory usage: 19.7+ MB\n"
     ]
    }
   ],
   "source": [
    "df1.info()"
   ]
  },
  {
   "cell_type": "code",
   "execution_count": 53,
   "id": "c8a5ed58-a847-470a-9ff1-79bca75feba1",
   "metadata": {},
   "outputs": [],
   "source": [
    "df1['Airport.Name']=df1['Airport.Name'].replace('Private', 'Private Airstrip')\n",
    "df1['Airport.Name']=df1['Airport.Name'].replace('Private Strip', 'Private Airstrip')\n",
    "df1['Airport.Name']=df1['Airport.Name'].replace('Pvt', 'Private Airstrip')\n",
    "df1['Airport.Name']=df1['Airport.Name'].replace(np.nan, 'None')"
   ]
  },
  {
   "cell_type": "code",
   "execution_count": 54,
   "id": "1328e598-a0fc-441a-8f68-2a61250d5908",
   "metadata": {},
   "outputs": [
    {
     "data": {
      "text/plain": [
       "None                              33871\n",
       "Private Airstrip                    884\n",
       "Merrill Field                       105\n",
       "Centennial                          101\n",
       "Van Nuys                             94\n",
       "                                  ...  \n",
       "Garnsey'S Strip                       1\n",
       "Oregon Hill                           1\n",
       "St. Pete-Clearwater Int               1\n",
       "Tri County Regional                   1\n",
       "Wichita Dwight D Eisenhower Nt        1\n",
       "Name: Airport.Name, Length: 20653, dtype: int64"
      ]
     },
     "execution_count": 54,
     "metadata": {},
     "output_type": "execute_result"
    }
   ],
   "source": [
    "df1['Airport.Name'].value_counts()"
   ]
  },
  {
   "cell_type": "code",
   "execution_count": 55,
   "id": "4aff94fa-0d4e-49c1-ae64-4e33c2528e40",
   "metadata": {},
   "outputs": [
    {
     "data": {
      "text/plain": [
       "20653"
      ]
     },
     "execution_count": 55,
     "metadata": {},
     "output_type": "execute_result"
    }
   ],
   "source": [
    "df1['Airport.Name'].unique().size"
   ]
  },
  {
   "cell_type": "code",
   "execution_count": 56,
   "id": "0df0ce2e-36d3-4607-a3e5-ac407d2c2b6b",
   "metadata": {},
   "outputs": [
    {
     "data": {
      "text/plain": [
       "None    35777\n",
       "NONE     1463\n",
       "PVT       465\n",
       "APA       155\n",
       "ORD       145\n",
       "        ...  \n",
       "D81         1\n",
       "7MS         1\n",
       "GA25        1\n",
       "T38         1\n",
       "EIKH        1\n",
       "Name: Airport.Code, Length: 10035, dtype: int64"
      ]
     },
     "execution_count": 56,
     "metadata": {},
     "output_type": "execute_result"
    }
   ],
   "source": [
    "df1['Airport.Code'].value_counts()"
   ]
  },
  {
   "cell_type": "code",
   "execution_count": 57,
   "id": "40381971-9cae-4fb0-9764-453ebf29ea26",
   "metadata": {},
   "outputs": [],
   "source": [
    "df1['Airport.Code']=df1['Airport.Code'].replace('NONE', 'None')"
   ]
  },
  {
   "cell_type": "code",
   "execution_count": 58,
   "id": "31a4c65c-66d1-4c37-afa3-3e8a89774663",
   "metadata": {},
   "outputs": [
    {
     "data": {
      "text/plain": [
       "10034"
      ]
     },
     "execution_count": 58,
     "metadata": {},
     "output_type": "execute_result"
    }
   ],
   "source": [
    "df1['Airport.Code'].unique().size"
   ]
  },
  {
   "cell_type": "code",
   "execution_count": 59,
   "id": "aff3c8ef-e3fe-487d-a073-e6ee05e500d9",
   "metadata": {},
   "outputs": [],
   "source": [
    " conditions = [\n",
    "    ((df1['Airport.Code'] =='None')),\n",
    "    ((df1['Airport.Code'] =='PVT')),\n",
    "    ((df1['Airport.Code'] !='None')& (df1['Airport.Code'] !='PVT'))\n",
    " ]\n",
    "choices = ['None','Private','Airport']"
   ]
  },
  {
   "cell_type": "code",
   "execution_count": 60,
   "id": "c5d95080-87ac-4e7e-af6e-9abc46da171b",
   "metadata": {},
   "outputs": [],
   "source": [
    "df1['Airport_Class'] = np.select(conditions, choices, default='NA')"
   ]
  },
  {
   "cell_type": "code",
   "execution_count": 61,
   "id": "73778934-3844-4716-93ab-c696d5a876de",
   "metadata": {},
   "outputs": [
    {
     "data": {
      "text/plain": [
       "Airport    45636\n",
       "None       37240\n",
       "Private      465\n",
       "Name: Airport_Class, dtype: int64"
      ]
     },
     "execution_count": 61,
     "metadata": {},
     "output_type": "execute_result"
    }
   ],
   "source": [
    "df1['Airport_Class'].value_counts()"
   ]
  },
  {
   "cell_type": "code",
   "execution_count": null,
   "id": "f413bbd8-17c3-4ac9-89a2-1dacbd711e48",
   "metadata": {},
   "outputs": [],
   "source": []
  },
  {
   "cell_type": "code",
   "execution_count": null,
   "id": "9344939d-a99f-4a73-8a7c-7e28b632a2a5",
   "metadata": {},
   "outputs": [],
   "source": []
  },
  {
   "cell_type": "code",
   "execution_count": 62,
   "id": "39f1056f-fd34-44f0-918a-862963f3c8e9",
   "metadata": {},
   "outputs": [
    {
     "data": {
      "text/plain": [
       "Substantial    60380\n",
       "Destroyed      17350\n",
       "UNKNOWN         3044\n",
       "Minor           2567\n",
       "Name: Aircraft.damage, dtype: int64"
      ]
     },
     "execution_count": 62,
     "metadata": {},
     "output_type": "execute_result"
    }
   ],
   "source": [
    "df1['Aircraft.damage'].value_counts()"
   ]
  },
  {
   "cell_type": "code",
   "execution_count": 63,
   "id": "a756c8a3-4f5c-4ed7-b021-4f2473ecb782",
   "metadata": {},
   "outputs": [],
   "source": [
    "df1['Total.Fatal.Injuries']=df1['Total.Fatal.Injuries'].astype(str).astype(float)\n",
    "df1['Total.Fatal.Injuries']=df1['Total.Fatal.Injuries'].astype(float).astype(int)"
   ]
  },
  {
   "cell_type": "code",
   "execution_count": 64,
   "id": "0147fc58-035b-4f2d-a16e-a0bb5bac1b43",
   "metadata": {},
   "outputs": [],
   "source": [
    "df1['Fatal_binary']=df1.apply(lambda x: 0 if x['Total.Fatal.Injuries']==0 else 1, axis=1)"
   ]
  },
  {
   "cell_type": "code",
   "execution_count": 65,
   "id": "f5ea0799-853e-46ee-add6-cc3295ded085",
   "metadata": {},
   "outputs": [],
   "source": [
    "df1['Total.Serious.Injuries']=df1['Total.Serious.Injuries'].astype(str).astype(float)\n",
    "df1['Total.Serious.Injuries']=df1['Total.Serious.Injuries'].astype(float).astype(int)"
   ]
  },
  {
   "cell_type": "code",
   "execution_count": 66,
   "id": "65e736a6-8190-4868-84b8-193578c3da4e",
   "metadata": {},
   "outputs": [],
   "source": [
    "df1['Serious_binary']=df1.apply(lambda x: 0 if x['Total.Serious.Injuries']==0 else 1, axis=1)"
   ]
  },
  {
   "cell_type": "code",
   "execution_count": 67,
   "id": "95942234-aefe-41ad-84f1-45f852ab6375",
   "metadata": {},
   "outputs": [],
   "source": [
    "df1['Total.Minor.Injuries']=df1['Total.Minor.Injuries'].astype(str).astype(float)\n",
    "df1['Total.Minor.Injuries']=df1['Total.Minor.Injuries'].astype(float).astype(int)"
   ]
  },
  {
   "cell_type": "code",
   "execution_count": 68,
   "id": "4531bd51-79b3-40c3-92b2-762070d0e9db",
   "metadata": {},
   "outputs": [],
   "source": [
    "df1['Minor_binary']=df1.apply(lambda x: 0 if x['Total.Minor.Injuries']==0 else 1, axis=1)"
   ]
  },
  {
   "cell_type": "code",
   "execution_count": 69,
   "id": "a1095186-c093-4568-a3e5-0a121241c112",
   "metadata": {},
   "outputs": [],
   "source": [
    "df1['Total.Uninjured']=df1['Total.Uninjured'].astype(str).astype(float)\n",
    "df1['Total.Uninjured']=df1['Total.Uninjured'].astype(float).astype(int)"
   ]
  },
  {
   "cell_type": "code",
   "execution_count": 70,
   "id": "c0e2b022-54d8-4601-9c79-7eca2b0d4b49",
   "metadata": {},
   "outputs": [],
   "source": [
    "df1['Uninjured_binary']=df1.apply(lambda x: 0 if x['Total.Uninjured']==0 else 1, axis=1)"
   ]
  },
  {
   "cell_type": "code",
   "execution_count": 71,
   "id": "ed090fb4-c990-4629-8f5d-a44306aa42f0",
   "metadata": {},
   "outputs": [],
   "source": [
    " conditions = [\n",
    "    ((df1['Fatal_binary'] ==1) | (df1['Serious_binary']==1 )),\n",
    "    ((df1['Fatal_binary'] ==0) & (df1['Serious_binary']==0) & ((df1['Minor_binary']==1) | (df1['Uninjured_binary']==1)))\n",
    "]\n",
    "choices = ['Fatal_Injured','Minor_Uninjured']"
   ]
  },
  {
   "cell_type": "code",
   "execution_count": 72,
   "id": "3f633044-19d2-47fa-8e6d-6154a0a89d61",
   "metadata": {},
   "outputs": [],
   "source": [
    "df1['Target_binary'] = np.select(conditions, choices, default='NA')"
   ]
  },
  {
   "cell_type": "code",
   "execution_count": 73,
   "id": "ef614953-d274-48b0-b31c-7265faf32dc5",
   "metadata": {},
   "outputs": [
    {
     "data": {
      "text/plain": [
       "Minor_Uninjured    54991\n",
       "Fatal_Injured      27083\n",
       "NA                  1267\n",
       "Name: Target_binary, dtype: int64"
      ]
     },
     "execution_count": 73,
     "metadata": {},
     "output_type": "execute_result"
    }
   ],
   "source": [
    "df1['Target_binary'].value_counts()"
   ]
  },
  {
   "cell_type": "code",
   "execution_count": 74,
   "id": "ff7691bf-6f3f-46cb-9854-f1f385f5c902",
   "metadata": {},
   "outputs": [],
   "source": [
    " conditions = [\n",
    "    ((df1['Fatal_binary'] ==1)),\n",
    "    ((df1['Fatal_binary'] ==0)& ((df1['Serious_binary']==1 )| (df1['Minor_binary']==1))),\n",
    "    ((df1['Fatal_binary'] ==0)& (df1['Serious_binary']==0) & (df1['Minor_binary']==0) & (df1['Uninjured_binary']==1))\n",
    "]\n",
    "choices = ['Fatal','Injured','Uninjured']"
   ]
  },
  {
   "cell_type": "code",
   "execution_count": 75,
   "id": "04544c29-0295-483b-8059-effc95f1d6d1",
   "metadata": {},
   "outputs": [],
   "source": [
    "df1['Target_column'] = np.select(conditions, choices, default='NA')"
   ]
  },
  {
   "cell_type": "code",
   "execution_count": 76,
   "id": "b11bf233-399a-4f5e-93b6-3db3b8102564",
   "metadata": {},
   "outputs": [],
   "source": [
    "df1['Total_passangers'] = df1['Total.Serious.Injuries']+df1['Total.Minor.Injuries']+df1['Total.Uninjured']+df1['Total.Fatal.Injuries']"
   ]
  },
  {
   "cell_type": "code",
   "execution_count": 77,
   "id": "624f9ff9-205f-41c0-9d08-6d659c7674bc",
   "metadata": {},
   "outputs": [],
   "source": [
    "columns_int = ['Total.Fatal.Injuries','Total.Serious.Injuries','Total.Minor.Injuries','Total.Uninjured']\n",
    "for column in columns_int:\n",
    "    df1[column]=df1[column].astype(str).astype(float).astype(int)"
   ]
  },
  {
   "cell_type": "code",
   "execution_count": 78,
   "id": "dbb4fb52-5253-495f-b67c-bf4202b5b6db",
   "metadata": {},
   "outputs": [],
   "source": [
    "df1['survival_rate'] = round((df1['Total.Serious.Injuries']+df1['Total.Minor.Injuries']+df1['Total.Uninjured'])/(df1['Total.Fatal.Injuries']+df1['Total.Serious.Injuries']+df1['Total.Minor.Injuries']+df1['Total.Uninjured']),2)"
   ]
  },
  {
   "cell_type": "code",
   "execution_count": 79,
   "id": "e41dca21-390b-4ccd-ae74-98e378eac0c4",
   "metadata": {},
   "outputs": [],
   "source": [
    "df1['Model'] = df1['Model'].str.lower()"
   ]
  },
  {
   "cell_type": "code",
   "execution_count": 80,
   "id": "61fd325a-b007-4599-99c1-193f9ea3f683",
   "metadata": {},
   "outputs": [],
   "source": [
    "#size info\n",
    "\n",
    "update_info = {\n",
    "    ('Cessna', ('120', '140', '150', '152', '162', '188', '305', 't37b')): 'small',\n",
    "    ('Cessna', ('l19', '170', '172', '177', '175', '180', '182', '205', '206', '210', '185', '152', '404', '421', '207', '208', '310', '340', '337', '402', '195', '414', '441', '401', '550', '425', \n",
    "               '303', '320', '335', '336', '500', '510', '551', '560', '411', '190', '525', '560', '501', '650', '680', 't21ol', 't240', 't50', '750', 'tri82', '400')): 'medium',\n",
    "    ('Piper', ('11', '15', '17', '36', '18', '19', '21', '38', '108', 'j', '25', 'e2')): 'small',\n",
    "    ('Piper', ('14', '16', '60', '20', '22', '28', '30', '39', '42', '44', '23', '34', '24', '32', '46', '12', '31', 'seneca')): 'medium',\n",
    "    ('Mooney', ('20', '2o', '22')): 'medium',\n",
    "    ('Mooney', ('10', '18', '2a')): 'small',\n",
    "    ('Boeing', ('707','717', '727', '737', '747', '757', '767', '777', '787', 'md11f', 'dc982')): 'large',\n",
    "    ('Boeing', ('b17g', 'dhc8102')): 'medium',\n",
    "    ('Boeing', ('a75', 'b75', 'e75', 'd75', 'pt13', 'pt17')): 'small',\n",
    "    ('Grumman', ('164', 'aa1', 'aa 1')): 'small',\n",
    "    ('Grumman', ('aa5', 'aa 5', '7', '15', '44', 'tb', '21', '73')): 'medium',\n",
    "    ('Bellanca', ('c',)): 'small',\n",
    "    ('Bellanca', ('17', '14', 'bl')): 'medium',\n",
    "    ('Robinson', ('r44', 'r22', '22', 's12')): 'small',\n",
    "    ('Robinson', ('r66',)): 'medium',\n",
    "    ('Schweizer', ('269', '164', '12', '13', '23', '26', '22', '32', '34')): 'small',\n",
    "    ('Schweizer', ('300',)): 'medium',\n",
    "    ('Aeronca', ('7', '11', '58', '65', 'c3')): 'small',\n",
    "    ('Aeronca', ('15',)): 'medium',\n",
    "    ('Mcdonnell douglas', ('dc', '88', '82', '10', '11', '54', '80', '83', '90', '81')): 'large',\n",
    "    ('Mcdonnell douglas', ('600', '369', '500')): 'medium',\n",
    "    ('Stinson', ('108', '77', '10', '19', 'sr', '180', '181')): 'medium',\n",
    "    ('Stinson', ('l5', 'l 5')): 'small',\n",
    "    ('Aero commander', ('a9', 's2')): 'small',\n",
    "    ('Aero commander', ('100', '112', '114', '200', '400', '500', '520', '560', '68', '69')): 'medium',\n",
    "    ('Taylorcraft', ('bc', 'dc', 'l2', 'bl', 'bf', '21', '19')): 'small',\n",
    "    ('Taylorcraft', ('20', '18')): 'medium',\n",
    "    ('De havilland', ('dhc8', 'dhc7')): 'large',\n",
    "    ('De havilland', ('dhc2', 'dhc3', 'dhc6')): 'medium',\n",
    "    ('North american', ('t6', 't 6', 'snj', '51', '28')): 'small',\n",
    "    ('North american', ('navion', 'na', 'b25')): 'medium',\n",
    "    ('Aerospatiale', ('atr',)): 'large',\n",
    "    ('Aerospatiale', ('sa', 'as', 'tb', '350', '316', '355', '300')): 'medium',\n",
    "    ('Rockwell', ('s2', 'a9')): 'small',\n",
    "    ('Rockwell', ('100', '112', '114', '680', '690', '500', '265')): 'medium',\n",
    "    ('Luscombe', ('11',)): 'medium',\n",
    "    ('Luscombe', ('8',)): 'small',\n",
    "}\n",
    "\n",
    "def update_model(row):\n",
    "    make = row['Make']\n",
    "    model = str(row['Model'])\n",
    "    \n",
    "    for condition, info in update_info.items():\n",
    "        if make == condition[0] and any(x in model for x in condition[1]):\n",
    "            return info\n",
    "    \n",
    "    return model\n",
    "\n",
    "df1['Aircraft_size'] = df1.apply(update_model, axis=1)"
   ]
  },
  {
   "cell_type": "code",
   "execution_count": 81,
   "id": "7be4dc44-e2d7-4c0d-98de-5235bd9a86e1",
   "metadata": {},
   "outputs": [],
   "source": [
    "#size info continued\n",
    "df1.loc[df1['Make'] == 'Beech', 'Aircraft_size'] = 'medium'\n",
    "df1.loc[df1['Make'] == 'Bell', 'Aircraft_size'] = 'medium'\n",
    "df1.loc[df1['Make'] == 'Hughes', 'Aircraft_size'] = 'medium'\n",
    "df1.loc[df1['Make'] == 'Air tractor', 'Aircraft_size'] = 'small'\n",
    "df1.loc[df1['Make'] == 'Maule', 'Aircraft_size'] = 'medium'\n",
    "df1.loc[df1['Make'] == 'Champion', 'Aircraft_size'] = 'small'\n",
    "df1.loc[df1['Make'] == 'Hiller', 'Aircraft_size'] = 'medium'\n",
    "df1.loc[df1['Make'] == 'Enstrom', 'Aircraft_size'] = 'medium'\n",
    "df1.loc[df1['Make'] == 'Ayres', 'Aircraft_size'] = 'small'\n",
    "df1.loc[df1['Make'] == 'Corp', 'Aircraft_size'] = 'medium'\n",
    "df1.loc[df1['Make'] == 'Eurocopter', 'Aircraft_size'] = 'medium'\n",
    "\n",
    "df1.loc[df1['Make'] == 'Cirrus', 'Aircraft_size'] = 'medium'\n",
    "df1.loc[df1['Make'] == 'Sikorsky', 'Aircraft_size'] = 'medium'"
   ]
  },
  {
   "cell_type": "code",
   "execution_count": 82,
   "id": "75453a1c-9332-4436-97db-e47e3f8a6fe7",
   "metadata": {},
   "outputs": [],
   "source": [
    "#filling unkonwn sizes with UNKNOWN\n",
    "sizes = ['small', 'medium', 'large']\n",
    "for index, row in df1.iterrows():\n",
    "    if df1.loc[index, 'Aircraft_size'] not in sizes:\n",
    "        df1.loc[index, 'Aircraft_size'] = 'UNKNOWN'"
   ]
  },
  {
   "cell_type": "code",
   "execution_count": 83,
   "id": "f75bcea5-8135-49ba-9c0c-04ae9af9d907",
   "metadata": {},
   "outputs": [
    {
     "data": {
      "text/plain": [
       "medium     41055\n",
       "UNKNOWN    21233\n",
       "small      18725\n",
       "large       2328\n",
       "Name: Aircraft_size, dtype: int64"
      ]
     },
     "execution_count": 83,
     "metadata": {},
     "output_type": "execute_result"
    }
   ],
   "source": [
    "df1['Aircraft_size'].value_counts()"
   ]
  },
  {
   "cell_type": "code",
   "execution_count": null,
   "id": "89efda41-e59a-4c3b-9d4e-d57723901a4b",
   "metadata": {},
   "outputs": [],
   "source": []
  },
  {
   "cell_type": "code",
   "execution_count": 84,
   "id": "96b1aa68-f8b2-410e-97d0-0bf30f19c511",
   "metadata": {},
   "outputs": [],
   "source": [
    "df_US = df1[df1['Country']== 'United States']"
   ]
  },
  {
   "cell_type": "code",
   "execution_count": 85,
   "id": "496ec564-00e0-42b7-b5a6-f05bc5b6c2e7",
   "metadata": {
    "tags": []
   },
   "outputs": [
    {
     "ename": "KeyError",
     "evalue": "\"['Airplane_size', 'City', 'State'] not found in axis\"",
     "output_type": "error",
     "traceback": [
      "\u001b[1;31m---------------------------------------------------------------------------\u001b[0m",
      "\u001b[1;31mKeyError\u001b[0m                                  Traceback (most recent call last)",
      "\u001b[1;32m~\\AppData\\Local\\Temp\\ipykernel_7016\\2111590201.py\u001b[0m in \u001b[0;36m<module>\u001b[1;34m\u001b[0m\n\u001b[1;32m----> 1\u001b[1;33m df_US_ml = df_US.drop(columns = ['Investigation.Type', 'Event.Date', 'Location', 'Country', 'Latitude', \n\u001b[0m\u001b[0;32m      2\u001b[0m        \u001b[1;34m'Longitude'\u001b[0m\u001b[1;33m,\u001b[0m \u001b[1;34m'Airport.Code'\u001b[0m\u001b[1;33m,\u001b[0m \u001b[1;34m'Airport.Name'\u001b[0m\u001b[1;33m,\u001b[0m \u001b[1;34m'Injury.Severity'\u001b[0m\u001b[1;33m,\u001b[0m\u001b[1;34m'Model'\u001b[0m\u001b[1;33m,\u001b[0m \u001b[1;34m'Air.carrier'\u001b[0m\u001b[1;33m,\u001b[0m \u001b[1;34m'Total.Fatal.Injuries'\u001b[0m\u001b[1;33m,\u001b[0m \u001b[1;34m'Weekend'\u001b[0m\u001b[1;33m,\u001b[0m\u001b[1;34m'Airplane_size'\u001b[0m\u001b[1;33m,\u001b[0m\u001b[1;33m\u001b[0m\u001b[1;33m\u001b[0m\u001b[0m\n\u001b[0;32m      3\u001b[0m        'Total.Serious.Injuries', 'Total.Minor.Injuries', 'Total.Uninjured','Report.Status', 'Year','Make','Fatal_binary', 'Serious_binary', 'Minor_binary', 'Uninjured_binary','survival_rate', 'City', 'State'], axis=1)\n",
      "\u001b[1;32m~\\anaconda3\\lib\\site-packages\\pandas\\util\\_decorators.py\u001b[0m in \u001b[0;36mwrapper\u001b[1;34m(*args, **kwargs)\u001b[0m\n\u001b[0;32m    309\u001b[0m                     \u001b[0mstacklevel\u001b[0m\u001b[1;33m=\u001b[0m\u001b[0mstacklevel\u001b[0m\u001b[1;33m,\u001b[0m\u001b[1;33m\u001b[0m\u001b[1;33m\u001b[0m\u001b[0m\n\u001b[0;32m    310\u001b[0m                 )\n\u001b[1;32m--> 311\u001b[1;33m             \u001b[1;32mreturn\u001b[0m \u001b[0mfunc\u001b[0m\u001b[1;33m(\u001b[0m\u001b[1;33m*\u001b[0m\u001b[0margs\u001b[0m\u001b[1;33m,\u001b[0m \u001b[1;33m**\u001b[0m\u001b[0mkwargs\u001b[0m\u001b[1;33m)\u001b[0m\u001b[1;33m\u001b[0m\u001b[1;33m\u001b[0m\u001b[0m\n\u001b[0m\u001b[0;32m    312\u001b[0m \u001b[1;33m\u001b[0m\u001b[0m\n\u001b[0;32m    313\u001b[0m         \u001b[1;32mreturn\u001b[0m \u001b[0mwrapper\u001b[0m\u001b[1;33m\u001b[0m\u001b[1;33m\u001b[0m\u001b[0m\n",
      "\u001b[1;32m~\\anaconda3\\lib\\site-packages\\pandas\\core\\frame.py\u001b[0m in \u001b[0;36mdrop\u001b[1;34m(self, labels, axis, index, columns, level, inplace, errors)\u001b[0m\n\u001b[0;32m   4955\u001b[0m                 \u001b[0mweight\u001b[0m  \u001b[1;36m1.0\u001b[0m     \u001b[1;36m0.8\u001b[0m\u001b[1;33m\u001b[0m\u001b[1;33m\u001b[0m\u001b[0m\n\u001b[0;32m   4956\u001b[0m         \"\"\"\n\u001b[1;32m-> 4957\u001b[1;33m         return super().drop(\n\u001b[0m\u001b[0;32m   4958\u001b[0m             \u001b[0mlabels\u001b[0m\u001b[1;33m=\u001b[0m\u001b[0mlabels\u001b[0m\u001b[1;33m,\u001b[0m\u001b[1;33m\u001b[0m\u001b[1;33m\u001b[0m\u001b[0m\n\u001b[0;32m   4959\u001b[0m             \u001b[0maxis\u001b[0m\u001b[1;33m=\u001b[0m\u001b[0maxis\u001b[0m\u001b[1;33m,\u001b[0m\u001b[1;33m\u001b[0m\u001b[1;33m\u001b[0m\u001b[0m\n",
      "\u001b[1;32m~\\anaconda3\\lib\\site-packages\\pandas\\core\\generic.py\u001b[0m in \u001b[0;36mdrop\u001b[1;34m(self, labels, axis, index, columns, level, inplace, errors)\u001b[0m\n\u001b[0;32m   4265\u001b[0m         \u001b[1;32mfor\u001b[0m \u001b[0maxis\u001b[0m\u001b[1;33m,\u001b[0m \u001b[0mlabels\u001b[0m \u001b[1;32min\u001b[0m \u001b[0maxes\u001b[0m\u001b[1;33m.\u001b[0m\u001b[0mitems\u001b[0m\u001b[1;33m(\u001b[0m\u001b[1;33m)\u001b[0m\u001b[1;33m:\u001b[0m\u001b[1;33m\u001b[0m\u001b[1;33m\u001b[0m\u001b[0m\n\u001b[0;32m   4266\u001b[0m             \u001b[1;32mif\u001b[0m \u001b[0mlabels\u001b[0m \u001b[1;32mis\u001b[0m \u001b[1;32mnot\u001b[0m \u001b[1;32mNone\u001b[0m\u001b[1;33m:\u001b[0m\u001b[1;33m\u001b[0m\u001b[1;33m\u001b[0m\u001b[0m\n\u001b[1;32m-> 4267\u001b[1;33m                 \u001b[0mobj\u001b[0m \u001b[1;33m=\u001b[0m \u001b[0mobj\u001b[0m\u001b[1;33m.\u001b[0m\u001b[0m_drop_axis\u001b[0m\u001b[1;33m(\u001b[0m\u001b[0mlabels\u001b[0m\u001b[1;33m,\u001b[0m \u001b[0maxis\u001b[0m\u001b[1;33m,\u001b[0m \u001b[0mlevel\u001b[0m\u001b[1;33m=\u001b[0m\u001b[0mlevel\u001b[0m\u001b[1;33m,\u001b[0m \u001b[0merrors\u001b[0m\u001b[1;33m=\u001b[0m\u001b[0merrors\u001b[0m\u001b[1;33m)\u001b[0m\u001b[1;33m\u001b[0m\u001b[1;33m\u001b[0m\u001b[0m\n\u001b[0m\u001b[0;32m   4268\u001b[0m \u001b[1;33m\u001b[0m\u001b[0m\n\u001b[0;32m   4269\u001b[0m         \u001b[1;32mif\u001b[0m \u001b[0minplace\u001b[0m\u001b[1;33m:\u001b[0m\u001b[1;33m\u001b[0m\u001b[1;33m\u001b[0m\u001b[0m\n",
      "\u001b[1;32m~\\anaconda3\\lib\\site-packages\\pandas\\core\\generic.py\u001b[0m in \u001b[0;36m_drop_axis\u001b[1;34m(self, labels, axis, level, errors, consolidate, only_slice)\u001b[0m\n\u001b[0;32m   4309\u001b[0m                 \u001b[0mnew_axis\u001b[0m \u001b[1;33m=\u001b[0m \u001b[0maxis\u001b[0m\u001b[1;33m.\u001b[0m\u001b[0mdrop\u001b[0m\u001b[1;33m(\u001b[0m\u001b[0mlabels\u001b[0m\u001b[1;33m,\u001b[0m \u001b[0mlevel\u001b[0m\u001b[1;33m=\u001b[0m\u001b[0mlevel\u001b[0m\u001b[1;33m,\u001b[0m \u001b[0merrors\u001b[0m\u001b[1;33m=\u001b[0m\u001b[0merrors\u001b[0m\u001b[1;33m)\u001b[0m\u001b[1;33m\u001b[0m\u001b[1;33m\u001b[0m\u001b[0m\n\u001b[0;32m   4310\u001b[0m             \u001b[1;32melse\u001b[0m\u001b[1;33m:\u001b[0m\u001b[1;33m\u001b[0m\u001b[1;33m\u001b[0m\u001b[0m\n\u001b[1;32m-> 4311\u001b[1;33m                 \u001b[0mnew_axis\u001b[0m \u001b[1;33m=\u001b[0m \u001b[0maxis\u001b[0m\u001b[1;33m.\u001b[0m\u001b[0mdrop\u001b[0m\u001b[1;33m(\u001b[0m\u001b[0mlabels\u001b[0m\u001b[1;33m,\u001b[0m \u001b[0merrors\u001b[0m\u001b[1;33m=\u001b[0m\u001b[0merrors\u001b[0m\u001b[1;33m)\u001b[0m\u001b[1;33m\u001b[0m\u001b[1;33m\u001b[0m\u001b[0m\n\u001b[0m\u001b[0;32m   4312\u001b[0m             \u001b[0mindexer\u001b[0m \u001b[1;33m=\u001b[0m \u001b[0maxis\u001b[0m\u001b[1;33m.\u001b[0m\u001b[0mget_indexer\u001b[0m\u001b[1;33m(\u001b[0m\u001b[0mnew_axis\u001b[0m\u001b[1;33m)\u001b[0m\u001b[1;33m\u001b[0m\u001b[1;33m\u001b[0m\u001b[0m\n\u001b[0;32m   4313\u001b[0m \u001b[1;33m\u001b[0m\u001b[0m\n",
      "\u001b[1;32m~\\anaconda3\\lib\\site-packages\\pandas\\core\\indexes\\base.py\u001b[0m in \u001b[0;36mdrop\u001b[1;34m(self, labels, errors)\u001b[0m\n\u001b[0;32m   6659\u001b[0m         \u001b[1;32mif\u001b[0m \u001b[0mmask\u001b[0m\u001b[1;33m.\u001b[0m\u001b[0many\u001b[0m\u001b[1;33m(\u001b[0m\u001b[1;33m)\u001b[0m\u001b[1;33m:\u001b[0m\u001b[1;33m\u001b[0m\u001b[1;33m\u001b[0m\u001b[0m\n\u001b[0;32m   6660\u001b[0m             \u001b[1;32mif\u001b[0m \u001b[0merrors\u001b[0m \u001b[1;33m!=\u001b[0m \u001b[1;34m\"ignore\"\u001b[0m\u001b[1;33m:\u001b[0m\u001b[1;33m\u001b[0m\u001b[1;33m\u001b[0m\u001b[0m\n\u001b[1;32m-> 6661\u001b[1;33m                 \u001b[1;32mraise\u001b[0m \u001b[0mKeyError\u001b[0m\u001b[1;33m(\u001b[0m\u001b[1;34mf\"{list(labels[mask])} not found in axis\"\u001b[0m\u001b[1;33m)\u001b[0m\u001b[1;33m\u001b[0m\u001b[1;33m\u001b[0m\u001b[0m\n\u001b[0m\u001b[0;32m   6662\u001b[0m             \u001b[0mindexer\u001b[0m \u001b[1;33m=\u001b[0m \u001b[0mindexer\u001b[0m\u001b[1;33m[\u001b[0m\u001b[1;33m~\u001b[0m\u001b[0mmask\u001b[0m\u001b[1;33m]\u001b[0m\u001b[1;33m\u001b[0m\u001b[1;33m\u001b[0m\u001b[0m\n\u001b[0;32m   6663\u001b[0m         \u001b[1;32mreturn\u001b[0m \u001b[0mself\u001b[0m\u001b[1;33m.\u001b[0m\u001b[0mdelete\u001b[0m\u001b[1;33m(\u001b[0m\u001b[0mindexer\u001b[0m\u001b[1;33m)\u001b[0m\u001b[1;33m\u001b[0m\u001b[1;33m\u001b[0m\u001b[0m\n",
      "\u001b[1;31mKeyError\u001b[0m: \"['Airplane_size', 'City', 'State'] not found in axis\""
     ]
    }
   ],
   "source": [
    "df_US_ml = df_US.drop(columns = ['Investigation.Type', 'Event.Date', 'Location', 'Country', 'Latitude', \n",
    "       'Longitude', 'Airport.Code', 'Airport.Name', 'Injury.Severity','Model', 'Air.carrier', 'Total.Fatal.Injuries', 'Weekend','Airplane_size',\n",
    "       'Total.Serious.Injuries', 'Total.Minor.Injuries', 'Total.Uninjured','Report.Status', 'Year','Make','Fatal_binary', 'Serious_binary', 'Minor_binary', 'Uninjured_binary','survival_rate', 'City', 'State'], axis=1)"
   ]
  },
  {
   "cell_type": "code",
   "execution_count": null,
   "id": "a4ad9162-d1f2-44f1-8533-ef85a72b0f04",
   "metadata": {},
   "outputs": [],
   "source": [
    "df_US_ml.columns"
   ]
  },
  {
   "cell_type": "code",
   "execution_count": null,
   "id": "fc5df152-ecfd-49d8-a9ac-17abab2dfcdd",
   "metadata": {},
   "outputs": [],
   "source": [
    "df_US_ml.to_csv('df_US_ml.csv')"
   ]
  }
 ],
 "metadata": {
  "kernelspec": {
   "display_name": "Python 3 (ipykernel)",
   "language": "python",
   "name": "python3"
  },
  "language_info": {
   "codemirror_mode": {
    "name": "ipython",
    "version": 3
   },
   "file_extension": ".py",
   "mimetype": "text/x-python",
   "name": "python",
   "nbconvert_exporter": "python",
   "pygments_lexer": "ipython3",
   "version": "3.9.13"
  }
 },
 "nbformat": 4,
 "nbformat_minor": 5
}
